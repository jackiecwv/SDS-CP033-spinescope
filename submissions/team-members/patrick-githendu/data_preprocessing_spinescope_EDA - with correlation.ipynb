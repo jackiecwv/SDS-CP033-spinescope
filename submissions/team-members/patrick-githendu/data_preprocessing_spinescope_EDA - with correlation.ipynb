{
 "cells": [
  {
   "cell_type": "markdown",
   "metadata": {
    "colab_type": "text",
    "id": "37puETfgRzzg"
   },
   "source": [
    "# Data Preprocessing "
   ]
  },
  {
   "cell_type": "markdown",
   "metadata": {
    "colab_type": "text",
    "id": "EoRP98MpR-qj"
   },
   "source": [
    "## Importing the libraries"
   ]
  },
  {
   "cell_type": "code",
   "execution_count": 250,
   "metadata": {
    "colab": {},
    "colab_type": "code",
    "id": "N-qiINBQSK2g"
   },
   "outputs": [
    {
     "name": "stdout",
     "output_type": "stream",
     "text": [
      "Requirement already satisfied: numpy in c:\\users\\patri\\appdata\\local\\programs\\python\\python310\\lib\\site-packages (1.26.4)\n",
      "Requirement already satisfied: matplotlib in c:\\users\\patri\\appdata\\local\\programs\\python\\python310\\lib\\site-packages (3.10.3)\n",
      "Requirement already satisfied: contourpy>=1.0.1 in c:\\users\\patri\\appdata\\local\\programs\\python\\python310\\lib\\site-packages (from matplotlib) (1.3.2)\n",
      "Requirement already satisfied: cycler>=0.10 in c:\\users\\patri\\appdata\\local\\programs\\python\\python310\\lib\\site-packages (from matplotlib) (0.12.1)\n",
      "Requirement already satisfied: fonttools>=4.22.0 in c:\\users\\patri\\appdata\\local\\programs\\python\\python310\\lib\\site-packages (from matplotlib) (4.59.0)\n",
      "Requirement already satisfied: kiwisolver>=1.3.1 in c:\\users\\patri\\appdata\\local\\programs\\python\\python310\\lib\\site-packages (from matplotlib) (1.4.8)\n",
      "Requirement already satisfied: numpy>=1.23 in c:\\users\\patri\\appdata\\local\\programs\\python\\python310\\lib\\site-packages (from matplotlib) (1.26.4)\n",
      "Requirement already satisfied: packaging>=20.0 in c:\\users\\patri\\appdata\\roaming\\python\\python310\\site-packages (from matplotlib) (25.0)\n",
      "Requirement already satisfied: pillow>=8 in c:\\users\\patri\\appdata\\local\\programs\\python\\python310\\lib\\site-packages (from matplotlib) (11.3.0)\n",
      "Requirement already satisfied: pyparsing>=2.3.1 in c:\\users\\patri\\appdata\\local\\programs\\python\\python310\\lib\\site-packages (from matplotlib) (3.2.3)\n",
      "Requirement already satisfied: python-dateutil>=2.7 in c:\\users\\patri\\appdata\\roaming\\python\\python310\\site-packages (from matplotlib) (2.9.0.post0)\n",
      "Requirement already satisfied: six>=1.5 in c:\\users\\patri\\appdata\\roaming\\python\\python310\\site-packages (from python-dateutil>=2.7->matplotlib) (1.17.0)\n",
      "Requirement already satisfied: matplotlib in c:\\users\\patri\\appdata\\local\\programs\\python\\python310\\lib\\site-packages (3.10.3)\n",
      "Requirement already satisfied: contourpy>=1.0.1 in c:\\users\\patri\\appdata\\local\\programs\\python\\python310\\lib\\site-packages (from matplotlib) (1.3.2)\n",
      "Requirement already satisfied: cycler>=0.10 in c:\\users\\patri\\appdata\\local\\programs\\python\\python310\\lib\\site-packages (from matplotlib) (0.12.1)\n",
      "Requirement already satisfied: fonttools>=4.22.0 in c:\\users\\patri\\appdata\\local\\programs\\python\\python310\\lib\\site-packages (from matplotlib) (4.59.0)\n",
      "Requirement already satisfied: kiwisolver>=1.3.1 in c:\\users\\patri\\appdata\\local\\programs\\python\\python310\\lib\\site-packages (from matplotlib) (1.4.8)\n",
      "Requirement already satisfied: numpy>=1.23 in c:\\users\\patri\\appdata\\local\\programs\\python\\python310\\lib\\site-packages (from matplotlib) (1.26.4)\n",
      "Requirement already satisfied: packaging>=20.0 in c:\\users\\patri\\appdata\\roaming\\python\\python310\\site-packages (from matplotlib) (25.0)\n",
      "Requirement already satisfied: pillow>=8 in c:\\users\\patri\\appdata\\local\\programs\\python\\python310\\lib\\site-packages (from matplotlib) (11.3.0)\n",
      "Requirement already satisfied: pyparsing>=2.3.1 in c:\\users\\patri\\appdata\\local\\programs\\python\\python310\\lib\\site-packages (from matplotlib) (3.2.3)\n",
      "Requirement already satisfied: python-dateutil>=2.7 in c:\\users\\patri\\appdata\\roaming\\python\\python310\\site-packages (from matplotlib) (2.9.0.post0)\n",
      "Requirement already satisfied: six>=1.5 in c:\\users\\patri\\appdata\\roaming\\python\\python310\\site-packages (from python-dateutil>=2.7->matplotlib) (1.17.0)\n",
      "Requirement already satisfied: pandas in c:\\users\\patri\\appdata\\local\\programs\\python\\python310\\lib\\site-packages (2.3.1)\n",
      "Requirement already satisfied: numpy>=1.22.4 in c:\\users\\patri\\appdata\\local\\programs\\python\\python310\\lib\\site-packages (from pandas) (1.26.4)\n",
      "Requirement already satisfied: python-dateutil>=2.8.2 in c:\\users\\patri\\appdata\\roaming\\python\\python310\\site-packages (from pandas) (2.9.0.post0)\n",
      "Requirement already satisfied: pytz>=2020.1 in c:\\users\\patri\\appdata\\local\\programs\\python\\python310\\lib\\site-packages (from pandas) (2025.2)\n",
      "Requirement already satisfied: tzdata>=2022.7 in c:\\users\\patri\\appdata\\local\\programs\\python\\python310\\lib\\site-packages (from pandas) (2025.2)\n",
      "Requirement already satisfied: six>=1.5 in c:\\users\\patri\\appdata\\roaming\\python\\python310\\site-packages (from python-dateutil>=2.8.2->pandas) (1.17.0)\n",
      "Requirement already satisfied: pandas in c:\\users\\patri\\appdata\\local\\programs\\python\\python310\\lib\\site-packages (2.3.1)\n",
      "Requirement already satisfied: numpy>=1.22.4 in c:\\users\\patri\\appdata\\local\\programs\\python\\python310\\lib\\site-packages (from pandas) (1.26.4)\n",
      "Requirement already satisfied: python-dateutil>=2.8.2 in c:\\users\\patri\\appdata\\roaming\\python\\python310\\site-packages (from pandas) (2.9.0.post0)\n",
      "Requirement already satisfied: pytz>=2020.1 in c:\\users\\patri\\appdata\\local\\programs\\python\\python310\\lib\\site-packages (from pandas) (2025.2)\n",
      "Requirement already satisfied: tzdata>=2022.7 in c:\\users\\patri\\appdata\\local\\programs\\python\\python310\\lib\\site-packages (from pandas) (2025.2)\n",
      "Requirement already satisfied: six>=1.5 in c:\\users\\patri\\appdata\\roaming\\python\\python310\\site-packages (from python-dateutil>=2.8.2->pandas) (1.17.0)\n",
      "Requirement already satisfied: scikit-learn in c:\\users\\patri\\appdata\\local\\programs\\python\\python310\\lib\\site-packages (1.6.1)\n",
      "Requirement already satisfied: numpy>=1.19.5 in c:\\users\\patri\\appdata\\local\\programs\\python\\python310\\lib\\site-packages (from scikit-learn) (1.26.4)\n",
      "Requirement already satisfied: scipy>=1.6.0 in c:\\users\\patri\\appdata\\local\\programs\\python\\python310\\lib\\site-packages (from scikit-learn) (1.15.3)\n",
      "Requirement already satisfied: joblib>=1.2.0 in c:\\users\\patri\\appdata\\local\\programs\\python\\python310\\lib\\site-packages (from scikit-learn) (1.5.1)\n",
      "Requirement already satisfied: threadpoolctl>=3.1.0 in c:\\users\\patri\\appdata\\local\\programs\\python\\python310\\lib\\site-packages (from scikit-learn) (3.6.0)\n",
      "Requirement already satisfied: scikit-learn in c:\\users\\patri\\appdata\\local\\programs\\python\\python310\\lib\\site-packages (1.6.1)\n",
      "Requirement already satisfied: numpy>=1.19.5 in c:\\users\\patri\\appdata\\local\\programs\\python\\python310\\lib\\site-packages (from scikit-learn) (1.26.4)\n",
      "Requirement already satisfied: scipy>=1.6.0 in c:\\users\\patri\\appdata\\local\\programs\\python\\python310\\lib\\site-packages (from scikit-learn) (1.15.3)\n",
      "Requirement already satisfied: joblib>=1.2.0 in c:\\users\\patri\\appdata\\local\\programs\\python\\python310\\lib\\site-packages (from scikit-learn) (1.5.1)\n",
      "Requirement already satisfied: threadpoolctl>=3.1.0 in c:\\users\\patri\\appdata\\local\\programs\\python\\python310\\lib\\site-packages (from scikit-learn) (3.6.0)\n",
      "Requirement already satisfied: seaborn in c:\\users\\patri\\appdata\\local\\programs\\python\\python310\\lib\\site-packages (0.13.2)\n",
      "Requirement already satisfied: numpy!=1.24.0,>=1.20 in c:\\users\\patri\\appdata\\local\\programs\\python\\python310\\lib\\site-packages (from seaborn) (1.26.4)\n",
      "Requirement already satisfied: pandas>=1.2 in c:\\users\\patri\\appdata\\local\\programs\\python\\python310\\lib\\site-packages (from seaborn) (2.3.1)\n",
      "Requirement already satisfied: matplotlib!=3.6.1,>=3.4 in c:\\users\\patri\\appdata\\local\\programs\\python\\python310\\lib\\site-packages (from seaborn) (3.10.3)\n",
      "Requirement already satisfied: contourpy>=1.0.1 in c:\\users\\patri\\appdata\\local\\programs\\python\\python310\\lib\\site-packages (from matplotlib!=3.6.1,>=3.4->seaborn) (1.3.2)\n",
      "Requirement already satisfied: cycler>=0.10 in c:\\users\\patri\\appdata\\local\\programs\\python\\python310\\lib\\site-packages (from matplotlib!=3.6.1,>=3.4->seaborn) (0.12.1)\n",
      "Requirement already satisfied: fonttools>=4.22.0 in c:\\users\\patri\\appdata\\local\\programs\\python\\python310\\lib\\site-packages (from matplotlib!=3.6.1,>=3.4->seaborn) (4.59.0)\n",
      "Requirement already satisfied: kiwisolver>=1.3.1 in c:\\users\\patri\\appdata\\local\\programs\\python\\python310\\lib\\site-packages (from matplotlib!=3.6.1,>=3.4->seaborn) (1.4.8)\n",
      "Requirement already satisfied: packaging>=20.0 in c:\\users\\patri\\appdata\\roaming\\python\\python310\\site-packages (from matplotlib!=3.6.1,>=3.4->seaborn) (25.0)\n",
      "Requirement already satisfied: pillow>=8 in c:\\users\\patri\\appdata\\local\\programs\\python\\python310\\lib\\site-packages (from matplotlib!=3.6.1,>=3.4->seaborn) (11.3.0)\n",
      "Requirement already satisfied: pyparsing>=2.3.1 in c:\\users\\patri\\appdata\\local\\programs\\python\\python310\\lib\\site-packages (from matplotlib!=3.6.1,>=3.4->seaborn) (3.2.3)\n",
      "Requirement already satisfied: python-dateutil>=2.7 in c:\\users\\patri\\appdata\\roaming\\python\\python310\\site-packages (from matplotlib!=3.6.1,>=3.4->seaborn) (2.9.0.post0)\n",
      "Requirement already satisfied: pytz>=2020.1 in c:\\users\\patri\\appdata\\local\\programs\\python\\python310\\lib\\site-packages (from pandas>=1.2->seaborn) (2025.2)\n",
      "Requirement already satisfied: tzdata>=2022.7 in c:\\users\\patri\\appdata\\local\\programs\\python\\python310\\lib\\site-packages (from pandas>=1.2->seaborn) (2025.2)\n",
      "Requirement already satisfied: six>=1.5 in c:\\users\\patri\\appdata\\roaming\\python\\python310\\site-packages (from python-dateutil>=2.7->matplotlib!=3.6.1,>=3.4->seaborn) (1.17.0)\n",
      "Requirement already satisfied: seaborn in c:\\users\\patri\\appdata\\local\\programs\\python\\python310\\lib\\site-packages (0.13.2)\n",
      "Requirement already satisfied: numpy!=1.24.0,>=1.20 in c:\\users\\patri\\appdata\\local\\programs\\python\\python310\\lib\\site-packages (from seaborn) (1.26.4)\n",
      "Requirement already satisfied: pandas>=1.2 in c:\\users\\patri\\appdata\\local\\programs\\python\\python310\\lib\\site-packages (from seaborn) (2.3.1)\n",
      "Requirement already satisfied: matplotlib!=3.6.1,>=3.4 in c:\\users\\patri\\appdata\\local\\programs\\python\\python310\\lib\\site-packages (from seaborn) (3.10.3)\n",
      "Requirement already satisfied: contourpy>=1.0.1 in c:\\users\\patri\\appdata\\local\\programs\\python\\python310\\lib\\site-packages (from matplotlib!=3.6.1,>=3.4->seaborn) (1.3.2)\n",
      "Requirement already satisfied: cycler>=0.10 in c:\\users\\patri\\appdata\\local\\programs\\python\\python310\\lib\\site-packages (from matplotlib!=3.6.1,>=3.4->seaborn) (0.12.1)\n",
      "Requirement already satisfied: fonttools>=4.22.0 in c:\\users\\patri\\appdata\\local\\programs\\python\\python310\\lib\\site-packages (from matplotlib!=3.6.1,>=3.4->seaborn) (4.59.0)\n",
      "Requirement already satisfied: kiwisolver>=1.3.1 in c:\\users\\patri\\appdata\\local\\programs\\python\\python310\\lib\\site-packages (from matplotlib!=3.6.1,>=3.4->seaborn) (1.4.8)\n",
      "Requirement already satisfied: packaging>=20.0 in c:\\users\\patri\\appdata\\roaming\\python\\python310\\site-packages (from matplotlib!=3.6.1,>=3.4->seaborn) (25.0)\n",
      "Requirement already satisfied: pillow>=8 in c:\\users\\patri\\appdata\\local\\programs\\python\\python310\\lib\\site-packages (from matplotlib!=3.6.1,>=3.4->seaborn) (11.3.0)\n",
      "Requirement already satisfied: pyparsing>=2.3.1 in c:\\users\\patri\\appdata\\local\\programs\\python\\python310\\lib\\site-packages (from matplotlib!=3.6.1,>=3.4->seaborn) (3.2.3)\n",
      "Requirement already satisfied: python-dateutil>=2.7 in c:\\users\\patri\\appdata\\roaming\\python\\python310\\site-packages (from matplotlib!=3.6.1,>=3.4->seaborn) (2.9.0.post0)\n",
      "Requirement already satisfied: pytz>=2020.1 in c:\\users\\patri\\appdata\\local\\programs\\python\\python310\\lib\\site-packages (from pandas>=1.2->seaborn) (2025.2)\n",
      "Requirement already satisfied: tzdata>=2022.7 in c:\\users\\patri\\appdata\\local\\programs\\python\\python310\\lib\\site-packages (from pandas>=1.2->seaborn) (2025.2)\n",
      "Requirement already satisfied: six>=1.5 in c:\\users\\patri\\appdata\\roaming\\python\\python310\\site-packages (from python-dateutil>=2.7->matplotlib!=3.6.1,>=3.4->seaborn) (1.17.0)\n"
     ]
    }
   ],
   "source": [
    "# Install numpy if not available\n",
    "!pip install numpy\n",
    "\n",
    "import numpy as np\n",
    "# Install matplotlib if not available\n",
    "!pip install matplotlib\n",
    "\n",
    "import matplotlib.pyplot as plt\n",
    "# Install pandas if not available\n",
    "!pip install pandas\n",
    "\n",
    "import pandas as pd\n",
    "# Install scikit-learn if not available\n",
    "!pip install scikit-learn\n",
    "\n",
    "from sklearn.impute import SimpleImputer\n",
    "from sklearn.preprocessing import LabelEncoder\n",
    "from sklearn.model_selection import train_test_split\n",
    "from sklearn.preprocessing import StandardScaler\n",
    "from sklearn.utils import resample\n",
    "# Install seaborn if not available\n",
    "!pip install seaborn\n",
    "\n",
    "import seaborn as sns"
   ]
  },
  {
   "cell_type": "markdown",
   "metadata": {
    "colab_type": "text",
    "id": "RopL7tUZSQkT"
   },
   "source": [
    "## Importing the dataset"
   ]
  },
  {
   "cell_type": "code",
   "execution_count": 251,
   "metadata": {
    "colab": {},
    "colab_type": "code",
    "id": "WwEPNDWySTKm"
   },
   "outputs": [],
   "source": [
    "dataset = pd.read_csv(\"column_3C_weka.csv\")\n",
    "X = dataset.iloc[:, :-1].values\n",
    "y = dataset.iloc[:, -1].values"
   ]
  },
  {
   "cell_type": "code",
   "execution_count": 252,
   "metadata": {
    "colab": {
     "base_uri": "https://localhost:8080/",
     "height": 188
    },
    "colab_type": "code",
    "id": "hCsz2yCebe1R",
    "outputId": "1e4cc568-4e51-4b38-9d46-4aa3f15204be"
   },
   "outputs": [
    {
     "name": "stdout",
     "output_type": "stream",
     "text": [
      "[[ 63.0278175   22.55258597  39.60911701  40.47523153  98.67291675\n",
      "   -0.25439999]\n",
      " [ 39.05695098  10.06099147  25.01537822  28.99595951 114.4054254\n",
      "    4.56425864]\n",
      " [ 68.83202098  22.21848205  50.09219357  46.61353893 105.9851355\n",
      "   -3.53031731]\n",
      " ...\n",
      " [ 61.44659663  22.6949683   46.17034732  38.75162833 125.6707246\n",
      "   -2.70787952]\n",
      " [ 45.25279209   8.69315736  41.5831264   36.55963472 118.5458418\n",
      "    0.21475017]\n",
      " [ 33.84164075   5.07399141  36.64123294  28.76764934 123.9452436\n",
      "   -0.19924909]]\n"
     ]
    }
   ],
   "source": [
    "print(X)\n"
   ]
  },
  {
   "cell_type": "code",
   "execution_count": 253,
   "metadata": {
    "colab": {
     "base_uri": "https://localhost:8080/",
     "height": 34
    },
    "colab_type": "code",
    "id": "eYrOQ43XcJR3",
    "outputId": "e0873b2a-3b08-4bab-ef0d-15b88858ca44"
   },
   "outputs": [
    {
     "name": "stdout",
     "output_type": "stream",
     "text": [
      "['Hernia' 'Hernia' 'Hernia' 'Hernia' 'Hernia' 'Hernia' 'Hernia' 'Hernia'\n",
      " 'Hernia' 'Hernia' 'Hernia' 'Hernia' 'Hernia' 'Hernia' 'Hernia' 'Hernia'\n",
      " 'Hernia' 'Hernia' 'Hernia' 'Hernia' 'Hernia' 'Hernia' 'Hernia' 'Hernia'\n",
      " 'Hernia' 'Hernia' 'Hernia' 'Hernia' 'Hernia' 'Hernia' 'Hernia' 'Hernia'\n",
      " 'Hernia' 'Hernia' 'Hernia' 'Hernia' 'Hernia' 'Hernia' 'Hernia' 'Hernia'\n",
      " 'Hernia' 'Hernia' 'Hernia' 'Hernia' 'Hernia' 'Hernia' 'Hernia' 'Hernia'\n",
      " 'Hernia' 'Hernia' 'Hernia' 'Hernia' 'Hernia' 'Hernia' 'Hernia' 'Hernia'\n",
      " 'Hernia' 'Hernia' 'Hernia' 'Hernia' 'Spondylolisthesis'\n",
      " 'Spondylolisthesis' 'Spondylolisthesis' 'Spondylolisthesis'\n",
      " 'Spondylolisthesis' 'Spondylolisthesis' 'Spondylolisthesis'\n",
      " 'Spondylolisthesis' 'Spondylolisthesis' 'Spondylolisthesis'\n",
      " 'Spondylolisthesis' 'Spondylolisthesis' 'Spondylolisthesis'\n",
      " 'Spondylolisthesis' 'Spondylolisthesis' 'Spondylolisthesis'\n",
      " 'Spondylolisthesis' 'Spondylolisthesis' 'Spondylolisthesis'\n",
      " 'Spondylolisthesis' 'Spondylolisthesis' 'Spondylolisthesis'\n",
      " 'Spondylolisthesis' 'Spondylolisthesis' 'Spondylolisthesis'\n",
      " 'Spondylolisthesis' 'Spondylolisthesis' 'Spondylolisthesis'\n",
      " 'Spondylolisthesis' 'Spondylolisthesis' 'Spondylolisthesis'\n",
      " 'Spondylolisthesis' 'Spondylolisthesis' 'Spondylolisthesis'\n",
      " 'Spondylolisthesis' 'Spondylolisthesis' 'Spondylolisthesis'\n",
      " 'Spondylolisthesis' 'Spondylolisthesis' 'Spondylolisthesis'\n",
      " 'Spondylolisthesis' 'Spondylolisthesis' 'Spondylolisthesis'\n",
      " 'Spondylolisthesis' 'Spondylolisthesis' 'Spondylolisthesis'\n",
      " 'Spondylolisthesis' 'Spondylolisthesis' 'Spondylolisthesis'\n",
      " 'Spondylolisthesis' 'Spondylolisthesis' 'Spondylolisthesis'\n",
      " 'Spondylolisthesis' 'Spondylolisthesis' 'Spondylolisthesis'\n",
      " 'Spondylolisthesis' 'Spondylolisthesis' 'Spondylolisthesis'\n",
      " 'Spondylolisthesis' 'Spondylolisthesis' 'Spondylolisthesis'\n",
      " 'Spondylolisthesis' 'Spondylolisthesis' 'Spondylolisthesis'\n",
      " 'Spondylolisthesis' 'Spondylolisthesis' 'Spondylolisthesis'\n",
      " 'Spondylolisthesis' 'Spondylolisthesis' 'Spondylolisthesis'\n",
      " 'Spondylolisthesis' 'Spondylolisthesis' 'Spondylolisthesis'\n",
      " 'Spondylolisthesis' 'Spondylolisthesis' 'Spondylolisthesis'\n",
      " 'Spondylolisthesis' 'Spondylolisthesis' 'Spondylolisthesis'\n",
      " 'Spondylolisthesis' 'Spondylolisthesis' 'Spondylolisthesis'\n",
      " 'Spondylolisthesis' 'Spondylolisthesis' 'Spondylolisthesis'\n",
      " 'Spondylolisthesis' 'Spondylolisthesis' 'Spondylolisthesis'\n",
      " 'Spondylolisthesis' 'Spondylolisthesis' 'Spondylolisthesis'\n",
      " 'Spondylolisthesis' 'Spondylolisthesis' 'Spondylolisthesis'\n",
      " 'Spondylolisthesis' 'Spondylolisthesis' 'Spondylolisthesis'\n",
      " 'Spondylolisthesis' 'Spondylolisthesis' 'Spondylolisthesis'\n",
      " 'Spondylolisthesis' 'Spondylolisthesis' 'Spondylolisthesis'\n",
      " 'Spondylolisthesis' 'Spondylolisthesis' 'Spondylolisthesis'\n",
      " 'Spondylolisthesis' 'Spondylolisthesis' 'Spondylolisthesis'\n",
      " 'Spondylolisthesis' 'Spondylolisthesis' 'Spondylolisthesis'\n",
      " 'Spondylolisthesis' 'Spondylolisthesis' 'Spondylolisthesis'\n",
      " 'Spondylolisthesis' 'Spondylolisthesis' 'Spondylolisthesis'\n",
      " 'Spondylolisthesis' 'Spondylolisthesis' 'Spondylolisthesis'\n",
      " 'Spondylolisthesis' 'Spondylolisthesis' 'Spondylolisthesis'\n",
      " 'Spondylolisthesis' 'Spondylolisthesis' 'Spondylolisthesis'\n",
      " 'Spondylolisthesis' 'Spondylolisthesis' 'Spondylolisthesis'\n",
      " 'Spondylolisthesis' 'Spondylolisthesis' 'Spondylolisthesis'\n",
      " 'Spondylolisthesis' 'Spondylolisthesis' 'Spondylolisthesis'\n",
      " 'Spondylolisthesis' 'Spondylolisthesis' 'Spondylolisthesis'\n",
      " 'Spondylolisthesis' 'Spondylolisthesis' 'Spondylolisthesis'\n",
      " 'Spondylolisthesis' 'Spondylolisthesis' 'Spondylolisthesis'\n",
      " 'Spondylolisthesis' 'Spondylolisthesis' 'Spondylolisthesis'\n",
      " 'Spondylolisthesis' 'Spondylolisthesis' 'Normal' 'Normal' 'Normal'\n",
      " 'Normal' 'Normal' 'Normal' 'Normal' 'Normal' 'Normal' 'Normal' 'Normal'\n",
      " 'Normal' 'Normal' 'Normal' 'Normal' 'Normal' 'Normal' 'Normal' 'Normal'\n",
      " 'Normal' 'Normal' 'Normal' 'Normal' 'Normal' 'Normal' 'Normal' 'Normal'\n",
      " 'Normal' 'Normal' 'Normal' 'Normal' 'Normal' 'Normal' 'Normal' 'Normal'\n",
      " 'Normal' 'Normal' 'Normal' 'Normal' 'Normal' 'Normal' 'Normal' 'Normal'\n",
      " 'Normal' 'Normal' 'Normal' 'Normal' 'Normal' 'Normal' 'Normal' 'Normal'\n",
      " 'Normal' 'Normal' 'Normal' 'Normal' 'Normal' 'Normal' 'Normal' 'Normal'\n",
      " 'Normal' 'Normal' 'Normal' 'Normal' 'Normal' 'Normal' 'Normal' 'Normal'\n",
      " 'Normal' 'Normal' 'Normal' 'Normal' 'Normal' 'Normal' 'Normal' 'Normal'\n",
      " 'Normal' 'Normal' 'Normal' 'Normal' 'Normal' 'Normal' 'Normal' 'Normal'\n",
      " 'Normal' 'Normal' 'Normal' 'Normal' 'Normal' 'Normal' 'Normal' 'Normal'\n",
      " 'Normal' 'Normal' 'Normal' 'Normal' 'Normal' 'Normal' 'Normal' 'Normal'\n",
      " 'Normal']\n"
     ]
    }
   ],
   "source": [
    "print(y)"
   ]
  },
  {
   "cell_type": "markdown",
   "metadata": {
    "colab_type": "text",
    "id": "nhfKXNxlSabC"
   },
   "source": [
    "## Taking care of missing data"
   ]
  },
  {
   "cell_type": "code",
   "execution_count": 254,
   "metadata": {
    "colab": {},
    "colab_type": "code",
    "id": "c93k7ipkSexq"
   },
   "outputs": [],
   "source": [
    "imputer = SimpleImputer(missing_values=np.nan, strategy='mean')\n",
    "imputer.fit(X[:, 0:6])  # Fit on all columns that need imputation\n",
    "X[:, 0:6] = imputer.transform(X[:, 0:6])"
   ]
  },
  {
   "cell_type": "code",
   "execution_count": 255,
   "metadata": {
    "colab": {
     "base_uri": "https://localhost:8080/",
     "height": 188
    },
    "colab_type": "code",
    "id": "3UgLdMS_bjq_",
    "outputId": "254af4e0-681e-47f5-aaa7-b9c6f43258e9"
   },
   "outputs": [
    {
     "name": "stdout",
     "output_type": "stream",
     "text": [
      "[[ 63.0278175   22.55258597  39.60911701  40.47523153  98.67291675\n",
      "   -0.25439999]\n",
      " [ 39.05695098  10.06099147  25.01537822  28.99595951 114.4054254\n",
      "    4.56425864]\n",
      " [ 68.83202098  22.21848205  50.09219357  46.61353893 105.9851355\n",
      "   -3.53031731]\n",
      " ...\n",
      " [ 61.44659663  22.6949683   46.17034732  38.75162833 125.6707246\n",
      "   -2.70787952]\n",
      " [ 45.25279209   8.69315736  41.5831264   36.55963472 118.5458418\n",
      "    0.21475017]\n",
      " [ 33.84164075   5.07399141  36.64123294  28.76764934 123.9452436\n",
      "   -0.19924909]]\n"
     ]
    }
   ],
   "source": [
    "print(X)"
   ]
  },
  {
   "cell_type": "code",
   "execution_count": 256,
   "metadata": {},
   "outputs": [
    {
     "name": "stdout",
     "output_type": "stream",
     "text": [
      "Value counts for pelvic_incidence (showing up to 10 most common values):\n",
      "pelvic_incidence\n",
      "63.027817    1\n",
      "56.535051    1\n",
      "54.920858    1\n",
      "38.505273    1\n",
      "48.259920    1\n",
      "87.679087    1\n",
      "74.094731    1\n",
      "95.480229    1\n",
      "80.111572    1\n",
      "73.635962    1\n",
      "Name: count, dtype: int64\n",
      "Number of zeros: 0 (0.0% of samples)\n",
      "----------------------------------------\n",
      "Value counts for pelvic_tilt (showing up to 10 most common values):\n",
      "pelvic_tilt\n",
      "22.552586    1\n",
      "14.377189    1\n",
      "18.968430    1\n",
      "16.964297    1\n",
      "16.417462    1\n",
      "20.365613    1\n",
      "18.823727    1\n",
      "46.550053    1\n",
      "33.942432    1\n",
      "9.711318     1\n",
      "Name: count, dtype: int64\n",
      "Number of zeros: 0 (0.0% of samples)\n",
      "----------------------------------------\n",
      "Value counts for lumbar_lordosis_angle (showing up to 10 most common values):\n",
      "lumbar_lordosis_angle\n",
      "52.0    4\n",
      "42.0    4\n",
      "47.0    4\n",
      "35.0    4\n",
      "37.0    3\n",
      "34.0    3\n",
      "58.0    3\n",
      "44.0    2\n",
      "51.0    2\n",
      "40.0    2\n",
      "Name: count, dtype: int64\n",
      "Number of zeros: 0 (0.0% of samples)\n",
      "----------------------------------------\n",
      "Value counts for sacral_slope (showing up to 10 most common values):\n",
      "sacral_slope\n",
      "35.417055    3\n",
      "56.309932    3\n",
      "45.000000    3\n",
      "33.111342    3\n",
      "35.655328    2\n",
      "34.380345    2\n",
      "43.315316    2\n",
      "48.179830    2\n",
      "49.085617    2\n",
      "42.646703    2\n",
      "Name: count, dtype: int64\n",
      "Number of zeros: 0 (0.0% of samples)\n",
      "----------------------------------------\n",
      "Value counts for pelvic_radius (showing up to 10 most common values):\n",
      "pelvic_radius\n",
      "98.672917     1\n",
      "101.723334    1\n",
      "125.846646    1\n",
      "127.632875    1\n",
      "94.882336     1\n",
      "120.944829    1\n",
      "128.405731    1\n",
      "96.683903     1\n",
      "125.593624    1\n",
      "98.727930     1\n",
      "Name: count, dtype: int64\n",
      "Number of zeros: 0 (0.0% of samples)\n",
      "----------------------------------------\n",
      "Value counts for degree_spondylolisthesis (showing up to 10 most common values):\n",
      "degree_spondylolisthesis\n",
      "-0.254400      1\n",
      " 25.773174     1\n",
      " 2.001642      1\n",
      " 7.986683      1\n",
      " 28.343799     1\n",
      " 76.730629     1\n",
      " 73.388216     1\n",
      " 77.283072     1\n",
      " 100.292107    1\n",
      " 26.975787     1\n",
      "Name: count, dtype: int64\n",
      "Number of zeros: 0 (0.0% of samples)\n",
      "----------------------------------------\n"
     ]
    }
   ],
   "source": [
    "# Check for sparsity or near-zero values in features\n",
    "df = pd.DataFrame(X, columns=dataset.columns[:-1])\n",
    "for col in df.columns:\n",
    "    print(f\"Value counts for {col} (showing up to 10 most common values):\")\n",
    "    print(df[col].value_counts().head(10))\n",
    "    num_zeros = (df[col] == 0).sum()\n",
    "    print(f\"Number of zeros: {num_zeros} ({num_zeros/len(df)*100:.1f}% of samples)\")\n",
    "    print('-'*40)"
   ]
  },
  {
   "cell_type": "code",
   "execution_count": 257,
   "metadata": {},
   "outputs": [
    {
     "name": "stdout",
     "output_type": "stream",
     "text": [
      "Dropping highly correlated features: ['sacral_slope']\n",
      "Remaining features: ['pelvic_incidence', 'pelvic_tilt', 'lumbar_lordosis_angle', 'pelvic_radius', 'degree_spondylolisthesis']\n"
     ]
    }
   ],
   "source": [
    "\n",
    "# Calculate correlation matrix\n",
    "corr_matrix = pd.DataFrame(X, columns=dataset.columns[:-1]).corr().abs()\n",
    "\n",
    "# Find highly correlated pairs (correlation > 0.9, but not self-correlation)\n",
    "upper = corr_matrix.where(np.triu(np.ones(corr_matrix.shape), k=1).astype(bool))\n",
    "to_drop = [column for column in upper.columns if any(upper[column] > 0.8)]\n",
    "\n",
    "print(\"Dropping highly correlated features:\", to_drop)\n",
    "\n",
    "# Drop these columns from the dataset\n",
    "X = pd.DataFrame(X, columns=dataset.columns[:-1]).drop(columns=to_drop).values\n",
    "\n",
    "# Print new feature names\n",
    "print(\"Remaining features:\", [col for col in dataset.columns[:-1] if col not in to_drop])\n",
    "\n"
   ]
  },
  {
   "cell_type": "markdown",
   "metadata": {
    "colab_type": "text",
    "id": "DXh8oVSITIc6"
   },
   "source": [
    "### Encoding the Dependent Variable"
   ]
  },
  {
   "cell_type": "code",
   "execution_count": 258,
   "metadata": {
    "colab": {},
    "colab_type": "code",
    "id": "XgHCShVyTOYY"
   },
   "outputs": [],
   "source": [
    "le = LabelEncoder()\n",
    "y = le.fit_transform(y)"
   ]
  },
  {
   "cell_type": "code",
   "execution_count": 259,
   "metadata": {
    "colab": {
     "base_uri": "https://localhost:8080/",
     "height": 34
    },
    "colab_type": "code",
    "id": "FyhY8-gPpFCa",
    "outputId": "7f76ef29-5423-4c3e-cf69-45fbc366a997"
   },
   "outputs": [
    {
     "name": "stdout",
     "output_type": "stream",
     "text": [
      "[0 0 0 0 0 0 0 0 0 0 0 0 0 0 0 0 0 0 0 0 0 0 0 0 0 0 0 0 0 0 0 0 0 0 0 0 0\n",
      " 0 0 0 0 0 0 0 0 0 0 0 0 0 0 0 0 0 0 0 0 0 0 0 2 2 2 2 2 2 2 2 2 2 2 2 2 2\n",
      " 2 2 2 2 2 2 2 2 2 2 2 2 2 2 2 2 2 2 2 2 2 2 2 2 2 2 2 2 2 2 2 2 2 2 2 2 2\n",
      " 2 2 2 2 2 2 2 2 2 2 2 2 2 2 2 2 2 2 2 2 2 2 2 2 2 2 2 2 2 2 2 2 2 2 2 2 2\n",
      " 2 2 2 2 2 2 2 2 2 2 2 2 2 2 2 2 2 2 2 2 2 2 2 2 2 2 2 2 2 2 2 2 2 2 2 2 2\n",
      " 2 2 2 2 2 2 2 2 2 2 2 2 2 2 2 2 2 2 2 2 2 2 2 2 2 1 1 1 1 1 1 1 1 1 1 1 1\n",
      " 1 1 1 1 1 1 1 1 1 1 1 1 1 1 1 1 1 1 1 1 1 1 1 1 1 1 1 1 1 1 1 1 1 1 1 1 1\n",
      " 1 1 1 1 1 1 1 1 1 1 1 1 1 1 1 1 1 1 1 1 1 1 1 1 1 1 1 1 1 1 1 1 1 1 1 1 1\n",
      " 1 1 1 1 1 1 1 1 1 1 1 1 1 1]\n"
     ]
    }
   ],
   "source": [
    "print(y)"
   ]
  },
  {
   "cell_type": "markdown",
   "metadata": {
    "colab_type": "text",
    "id": "qb_vcgm3qZKW"
   },
   "source": [
    "## Splitting the dataset into the Training set and Test set"
   ]
  },
  {
   "cell_type": "code",
   "execution_count": 260,
   "metadata": {
    "colab": {},
    "colab_type": "code",
    "id": "pXgA6CzlqbCl"
   },
   "outputs": [],
   "source": [
    "X_train, X_test, y_train, y_test = train_test_split(X, y, test_size = 0.2, random_state = 1)"
   ]
  },
  {
   "cell_type": "code",
   "execution_count": 261,
   "metadata": {
    "colab": {
     "base_uri": "https://localhost:8080/",
     "height": 154
    },
    "colab_type": "code",
    "id": "GuwQhFdKrYTM",
    "outputId": "de1e527f-c229-4daf-e7c5-ea9d2485148d"
   },
   "outputs": [
    {
     "name": "stdout",
     "output_type": "stream",
     "text": [
      "[[ 61.44659663  22.6949683   46.17034732 125.6707246   -2.70787952]\n",
      " [ 63.0278175   22.55258597  39.60911701  98.67291675  -0.25439999]\n",
      " [ 69.62628302  21.12275138  52.76659472 116.8030913   54.81686729]\n",
      " ...\n",
      " [ 84.97413208  33.02117462  60.85987263 125.6595336   74.33340864]\n",
      " [ 63.92947003  19.97109671  40.17704963 113.0659387  -11.05817866]\n",
      " [ 35.70345781  19.44325311  20.7        137.5406125   -0.26348965]]\n"
     ]
    }
   ],
   "source": [
    "print(X_train)"
   ]
  },
  {
   "cell_type": "code",
   "execution_count": 262,
   "metadata": {
    "colab": {
     "base_uri": "https://localhost:8080/",
     "height": 51
    },
    "colab_type": "code",
    "id": "TUrX_Tvcrbi4",
    "outputId": "9a041a9b-2642-4828-fa2f-a431d7d77631"
   },
   "outputs": [
    {
     "name": "stdout",
     "output_type": "stream",
     "text": [
      "[[ 67.41253785  17.44279712  60.14464036 111.12397     33.15764573]\n",
      " [ 63.02630005  27.33624023  51.60501665 114.5066078    7.4398698 ]\n",
      " [ 91.46874146  24.50817744  84.62027202 117.3078968   52.62304673]\n",
      " [ 72.56070163  17.38519079  51.99999999 119.1937238   32.10853735]\n",
      " [ 54.74177518  12.09507205  40.99999999 117.6432188   40.3823266 ]\n",
      " [ 70.39930842  13.46998624  61.19999999 102.3375244   25.53842852]\n",
      " [ 33.84164075   5.07399141  36.64123294 123.9452436   -0.19924909]\n",
      " [ 72.05403412  24.70073725  79.87401586 107.1723576   56.42615873]\n",
      " [ 84.99895554  29.61009772  83.35219438 126.9129899   71.32117542]\n",
      " [ 69.3988184   18.89840693  75.96636144 103.5825398   -0.44366081]\n",
      " [ 65.61180231  23.13791922  62.58217893 124.1280012   -4.08329841]\n",
      " [ 45.25279209   8.69315736  41.5831264  118.5458418    0.21475017]\n",
      " [ 43.20318499  19.66314572  35.         124.8461088   -2.91907595]\n",
      " [ 48.10923638  14.93072472  35.56468278 124.0564518    7.94790486]\n",
      " [ 50.67667667   6.46150127  35.         116.5879699   -0.21471061]\n",
      " [ 84.5856071   30.36168482  65.47948563 108.0102185   25.11847846]\n",
      " [ 54.60031622  21.48897426  29.36021618 118.3433212   -1.47106726]\n",
      " [ 67.80469442  16.55066167  43.25680184 119.6856451    4.86753994]\n",
      " [ 43.11795103  13.81574355  40.34738779 128.5177217    0.97092641]\n",
      " [ 56.60577127  16.80020017  41.99999999 127.2945222   24.0185747 ]\n",
      " [ 37.90391014   4.47909896  24.71027447 157.848799    33.60702661]\n",
      " [ 61.82162717  13.59710457  63.99999999 121.779803     1.29619119]\n",
      " [ 38.69791243  13.44474904  31.         123.1592507    1.42918576]\n",
      " [ 72.34359434  16.42078962  59.86901238  70.08257486  12.07264427]\n",
      " [ 31.23238734  17.71581923  15.5        120.0553988    0.49975145]\n",
      " [ 74.09473084  18.82372712  76.03215571 128.4057314   73.38821617]\n",
      " [ 95.38259648  24.82263131  95.15763273  89.3075466   57.66084135]\n",
      " [ 67.51305267  33.2755899   96.28306169 145.6010328   88.30148594]\n",
      " [ 45.44374959   9.9060718   44.99999999 163.0710405   20.31531532]\n",
      " [ 86.472905    40.30376567  61.14101155  97.4041888   55.75222146]\n",
      " [ 83.7031774   20.26822858  77.1105979  125.4801739   69.279571  ]\n",
      " [ 45.70178875  10.65985935  42.5778464  130.1783144   -3.38890999]\n",
      " [ 50.16007802  -2.97002434  41.99999999 131.8024914   -8.29020337]\n",
      " [ 48.91555137  19.96455616  40.26379358 119.321358     8.02889463]\n",
      " [ 43.58096394  16.5088837   46.99999999 109.271634     8.99281573]\n",
      " [ 81.08232025  21.25584028  78.76675639  90.07187999  49.159426  ]\n",
      " [ 66.87921138  24.89199889  49.27859673 113.4770183   -2.00589175]\n",
      " [ 45.57548229  18.75913544  33.77414297 116.7970069    3.13190992]\n",
      " [ 63.90063261  13.7062037   62.12433389 114.1292425   41.42282844]\n",
      " [ 41.18776972   5.79297387  42.86739151 103.3488802   27.66027669]\n",
      " [ 39.08726449   5.53660248  26.93203835 131.5844199   -0.75946135]\n",
      " [ 54.92085752  18.96842952  51.60145541 125.8466462    2.00164247]\n",
      " [ 58.10193455  14.83763914  79.64983825 113.5876551   50.23787808]\n",
      " [ 48.17074627   9.5942167   39.71092029 135.6233101    5.36005057]\n",
      " [ 50.82502875   9.06472905  56.29999999  78.99945411  23.04152435]\n",
      " [ 60.7538935   15.7538935   43.19915768 113.0533309   31.69354839]\n",
      " [ 36.15782981  -0.81051409  33.62731353 135.9369096   -2.0925065 ]\n",
      " [ 53.93674778  20.72149628  29.22053381 114.365845    -0.42101039]\n",
      " [118.1446548   38.44950127  50.83851954  81.0245406   74.04376736]\n",
      " [ 51.07983294  14.20993529  35.95122893 115.8037111    6.90508996]\n",
      " [ 65.00796426  27.60260762  50.94751899 116.5811088    7.01597788]\n",
      " [ 59.16761171  14.56274875  43.19915768 121.0356423    2.83050412]\n",
      " [ 49.71285934   9.65207488  28.317406   108.1687249    7.91850062]\n",
      " [ 68.72190982  49.4318636   68.0560124  125.0185168   54.69128928]\n",
      " [ 71.18681115  23.89620111  43.6966651  119.8649383   27.28398451]\n",
      " [ 74.43359316  41.55733141  27.7        107.9493045    5.00008879]\n",
      " [ 55.512212    20.09515673  43.99999999 122.648753    34.55294641]\n",
      " [ 85.58171024  30.45703858  78.23137949 114.8660487   68.37612182]\n",
      " [ 36.68635286   5.01088412  41.9487509   84.24141517   0.66443712]\n",
      " [ 80.43342782  16.998479    66.53601753 116.4389807   57.78125   ]\n",
      " [ 63.83498162  20.36250706  54.55243367 112.3094915   -0.62252664]\n",
      " [ 95.48022873  46.55005318  58.99999999  96.68390337  77.28307195]]\n"
     ]
    }
   ],
   "source": [
    "print(X_test)"
   ]
  },
  {
   "cell_type": "code",
   "execution_count": 263,
   "metadata": {
    "colab": {
     "base_uri": "https://localhost:8080/",
     "height": 34
    },
    "colab_type": "code",
    "id": "pSMHiIsWreQY",
    "outputId": "5afe91e0-9244-4bf5-ec1b-e3e092b85c08"
   },
   "outputs": [
    {
     "name": "stdout",
     "output_type": "stream",
     "text": [
      "[1 0 2 2 2 2 2 2 2 2 2 1 1 0 2 2 2 1 0 2 2 1 0 2 2 2 0 1 0 1 2 2 1 2 0 2 1\n",
      " 1 2 1 1 1 0 0 2 1 2 0 1 2 2 2 2 1 0 2 1 2 2 2 2 2 1 0 1 1 0 0 0 0 1 0 1 2\n",
      " 0 0 1 2 1 1 2 2 2 1 1 1 0 1 1 0 0 2 2 0 2 0 1 2 1 2 2 2 1 2 1 0 2 2 2 2 1\n",
      " 2 1 1 2 2 1 2 2 1 1 0 2 1 1 1 2 1 2 1 2 2 1 2 2 2 2 2 2 1 2 2 2 1 2 2 2 0\n",
      " 0 0 2 1 0 1 0 1 2 0 1 0 1 1 2 2 1 1 1 2 1 1 0 2 1 0 0 2 2 1 2 2 2 2 2 1 2\n",
      " 0 2 2 2 1 2 1 2 1 2 2 2 2 2 2 2 1 2 2 1 0 2 2 0 2 0 2 0 0 0 1 0 2 2 1 1 1\n",
      " 2 0 0 0 2 2 1 1 2 0 2 1 1 1 2 1 1 2 2 2 2 2 1 2 1 0]\n"
     ]
    }
   ],
   "source": [
    "print(y_train)"
   ]
  },
  {
   "cell_type": "code",
   "execution_count": 264,
   "metadata": {
    "colab": {
     "base_uri": "https://localhost:8080/",
     "height": 34
    },
    "colab_type": "code",
    "id": "I_tW7H56rgtW",
    "outputId": "2a93f141-2a99-4a69-eec5-c82a3bb8d36b"
   },
   "outputs": [
    {
     "name": "stdout",
     "output_type": "stream",
     "text": [
      "[2 1 2 2 2 2 1 2 2 1 1 1 0 0 1 2 1 1 1 2 2 1 0 2 0 2 2 2 2 2 2 1 1 0 0 2 0\n",
      " 1 2 2 1 1 2 1 2 2 1 1 2 1 2 1 0 2 2 0 2 2 0 2 0 2]\n"
     ]
    }
   ],
   "source": [
    "print(y_test)"
   ]
  },
  {
   "cell_type": "markdown",
   "metadata": {},
   "source": [
    "### Upsampling to balance the dataset"
   ]
  },
  {
   "cell_type": "code",
   "execution_count": 265,
   "metadata": {},
   "outputs": [
    {
     "name": "stdout",
     "output_type": "stream",
     "text": [
      "Class distribution after upsampling: [119 119 119]\n"
     ]
    }
   ],
   "source": [
    "# Combine X_train and y_train for resampling\n",
    "train_df = pd.DataFrame(X_train)\n",
    "train_df['label'] = y_train\n",
    "\n",
    "# Find the maximum class count\n",
    "max_count = train_df['label'].value_counts().max()\n",
    "\n",
    "# Upsample each class to the maximum count\n",
    "upsampled = []\n",
    "for label in train_df['label'].unique():\n",
    "    class_df = train_df[train_df['label'] == label]\n",
    "    upsampled_class = resample(class_df, \n",
    "                               replace=True, \n",
    "                               n_samples=max_count, \n",
    "                               random_state=42)\n",
    "    upsampled.append(upsampled_class)\n",
    "train_upsampled = pd.concat(upsampled)\n",
    "\n",
    "# Shuffle the upsampled training set\n",
    "train_upsampled = train_upsampled.sample(frac=1, random_state=42)\n",
    "\n",
    "# Separate features and labels again\n",
    "X_train = train_upsampled.drop('label', axis=1).values\n",
    "y_train = train_upsampled['label'].values\n",
    "\n",
    "print(\"Class distribution after upsampling:\", np.bincount(y_train))"
   ]
  },
  {
   "cell_type": "markdown",
   "metadata": {
    "colab_type": "text",
    "id": "TpGqbS4TqkIR"
   },
   "source": [
    "## Feature Scaling\n",
    "\n",
    "### Log Transformation for Highly Skewed Feature\n",
    "\n",
    "The `degree_spondylolisthesis` feature (last column) has a high skewness (~4). We apply a log1p transformation to reduce skewness before scaling."
   ]
  },
  {
   "cell_type": "code",
   "execution_count": 266,
   "metadata": {},
   "outputs": [
    {
     "name": "stderr",
     "output_type": "stream",
     "text": [
      "C:\\Users\\patri\\AppData\\Local\\Temp\\ipykernel_27268\\575848109.py:2: RuntimeWarning: invalid value encountered in log1p\n",
      "  X_train[:, -1] = np.log1p(X_train[:, -1])\n",
      "C:\\Users\\patri\\AppData\\Local\\Temp\\ipykernel_27268\\575848109.py:3: RuntimeWarning: invalid value encountered in log1p\n",
      "  X_test[:, -1] = np.log1p(X_test[:, -1])\n"
     ]
    }
   ],
   "source": [
    "# Apply log1p transformation to degree_spondylolisthesis (last column, now at index -1)\n",
    "X_train[:, -1] = np.log1p(X_train[:, -1])\n",
    "X_test[:, -1] = np.log1p(X_test[:, -1])"
   ]
  },
  {
   "cell_type": "code",
   "execution_count": 267,
   "metadata": {},
   "outputs": [
    {
     "data": {
      "image/png": "[encoded data removed]",
      "text/plain": [
       "<Figure size 600x400 with 1 Axes>"
      ]
     },
     "metadata": {},
     "output_type": "display_data"
    }
   ],
   "source": [
    "# Show histogram of log-transformed degree_spondylolisthesis (train set)\n",
    "plt.figure(figsize=(6,4))\n",
    "plt.hist(X_train[:, -1], bins=30, color='skyblue', edgecolor='black')\n",
    "plt.title('Histogram of log-transformed degree_spondylolisthesis (train set)')\n",
    "plt.xlabel('log(1 + degree_spondylolisthesis)')\n",
    "plt.ylabel('Frequency')\n",
    "plt.show()"
   ]
  },
  {
   "cell_type": "code",
   "execution_count": 268,
   "metadata": {
    "colab": {},
    "colab_type": "code",
    "id": "AxjSUXFQqo-3"
   },
   "outputs": [],
   "source": [
    "sc = StandardScaler()\n",
    "X_train = sc.fit_transform(X_train)\n",
    "X_test = sc.transform(X_test)"
   ]
  },
  {
   "cell_type": "code",
   "execution_count": 269,
   "metadata": {
    "colab": {
     "base_uri": "https://localhost:8080/",
     "height": 154
    },
    "colab_type": "code",
    "id": "DWPET8ZdlMnu",
    "outputId": "dea86927-5124-4e2a-e974-2804df9a913c"
   },
   "outputs": [
    {
     "name": "stdout",
     "output_type": "stream",
     "text": [
      "[[-1.22106912  0.65687918 -0.98831308 -0.32151852         nan]\n",
      " [-1.30380255 -1.58148072 -0.96121661  0.68548006 -1.88490277]\n",
      " [-0.71320417 -0.82507476  0.24729773  1.34491891  0.66912397]\n",
      " ...\n",
      " [ 1.15479027  1.63339613  2.26725279 -1.08334072  1.06277336]\n",
      " [ 1.43725694  1.90063549  2.02558922  0.55081923  1.43945187]\n",
      " [-0.71914804 -0.29781666 -0.81406535  1.08415751         nan]]\n"
     ]
    }
   ],
   "source": [
    "print(X_train)"
   ]
  },
  {
   "cell_type": "code",
   "execution_count": 270,
   "metadata": {
    "colab": {
     "base_uri": "https://localhost:8080/",
     "height": 51
    },
    "colab_type": "code",
    "id": "sTXykB_QlRjE",
    "outputId": "b68f0cfc-d07c-48cb-80d0-6800028c41f9"
   },
   "outputs": [
    {
     "name": "stdout",
     "output_type": "stream",
     "text": [
      "[[ 0.6697796   0.06568256  0.6848458  -0.70934309  0.74927827]\n",
      " [ 0.40469344  1.16594946  0.22607835 -0.41474912 -0.13835432]\n",
      " [ 2.12363755  0.85143572  1.9997308  -0.17078483  1.03562308]\n",
      " [ 0.98091344  0.05927607  0.24729773 -0.00654813  0.72947172]\n",
      " [-0.09598915 -0.52904718 -0.34364657 -0.14158163  0.87109903]\n",
      " [ 0.85028773 -0.3761406   0.74154205 -1.47455475  0.58902878]\n",
      " [-1.35910726 -1.30987369 -0.57780917  0.40726179 -1.63370367]\n",
      " [ 0.95029254  0.87285062  1.74475144 -1.05348906  1.07912852]\n",
      " [ 1.73263032  1.41882908  1.93160687  0.66572285  1.22555222]\n",
      " [ 0.78982223  0.22756345  1.53482361 -1.36612634 -1.86492413]\n",
      " [ 0.56095056  0.69904693  0.81579576  0.42317815         nan]\n",
      " [-0.66946424 -0.90737999 -0.31231973 -0.06297218 -1.3691041 ]\n",
      " [-0.79333406  0.31261137 -0.66597982  0.48571815         nan]\n",
      " [-0.4968325  -0.21368935 -0.63564382  0.41694691 -0.10124156]\n",
      " [-0.34166697 -1.15556632 -0.66597982 -0.23348327 -1.64608313]\n",
      " [ 1.70764924  1.50241438  0.97144548 -0.98051975  0.57890129]\n",
      " [-0.10453835  0.51566491 -0.96896147 -0.0806097          nan]\n",
      " [ 0.69347993 -0.03353336 -0.22240619  0.0362933  -0.36916822]\n",
      " [-0.79848525 -0.33768833 -0.37870634  0.80547896 -1.06182419]\n",
      " [ 0.0166631  -0.00578175 -0.28992436  0.6989505   0.55158411]\n",
      " [-1.11360042 -1.3760327  -1.21876661  3.35992286  0.75757688]\n",
      " [ 0.33188797 -0.36200355  0.89196424  0.21867354 -0.96484117]\n",
      " [-1.06561419 -0.37894727 -0.88086866  0.33880966 -0.92909232]\n",
      " [ 0.96779237 -0.04797666  0.67003846 -4.28363871  0.13945869]\n",
      " [-1.5167998   0.09604582 -1.7135629   0.06849516 -1.23528745]\n",
      " [ 1.07362385  0.21925818  1.53835822  0.79572573  1.24344467]\n",
      " [ 2.36017484  0.88640667  2.5658211  -2.60933568  1.09263487]\n",
      " [ 0.67585431  1.8264748   2.62628163  2.29326474  1.35945789]\n",
      " [-0.65792355 -0.77248968 -0.12875773  3.81472793  0.44987433]\n",
      " [ 1.82170976  2.60809037  0.73837306 -1.90419901  1.07163319]\n",
      " [ 1.65431882  0.37990368  1.59629452  0.54093889  1.20737073]\n",
      " [-0.64232873 -0.68865966 -0.25888118  0.9501             nan]\n",
      " [-0.37288807 -2.20446257 -0.28992436  1.0915496          nan]\n",
      " [-0.44810214  0.34613174 -0.38319721  0.00456753 -0.09552058]\n",
      " [-0.77050265 -0.03817956 -0.02131332 -0.87066306 -0.03111639]\n",
      " [ 1.495925    0.48973768  1.68526701 -2.54276987  0.99322779]\n",
      " [ 0.63754755  0.89412116  0.10109793 -0.50441608         nan]\n",
      " [-0.64996217  0.21207482 -0.73183557 -0.21527823 -0.59183244]\n",
      " [ 0.4575345  -0.34987044  0.79119931 -0.44761387  0.88686586]\n",
      " [-0.91513746 -1.2299144  -0.24332617 -1.38647576  0.63786583]\n",
      " [-1.04208335 -1.25842591 -1.09940855  1.07255775 -2.39730409]\n",
      " [-0.08516615  0.23535078  0.22588703  0.57285497 -0.79474071]\n",
      " [ 0.10708506 -0.22404156  1.73270812 -0.49478072  1.00673423]\n",
      " [-0.49311509 -0.80717162 -0.41289878  1.42430475 -0.317993  ]\n",
      " [-0.33270118 -0.86605686  0.47830323 -3.50706758  0.52629136]\n",
      " [ 0.26735854 -0.12214332 -0.22550296 -0.54131502  0.7214632 ]\n",
      " [-1.21912633 -1.96429971 -0.73972357  1.45161613         nan]\n",
      " [-0.14464169  0.43031236 -0.97646552 -0.42700816 -1.83958672]\n",
      " [ 3.73581998  2.40187442  0.18490043 -3.33070277  1.24901545]\n",
      " [-0.31730187 -0.29384958 -0.61487771 -0.30178438 -0.1799163 ]\n",
      " [ 0.52445707  1.19557264  0.19075613 -0.2340808  -0.17107189]\n",
      " [ 0.1714902  -0.25461259 -0.22550296  0.15386458 -0.63992351]\n",
      " [-0.39991613 -0.80073711 -1.02498354 -0.96671542 -0.10333145]\n",
      " [ 0.74891266  3.62324191  1.10986219  0.50073317  1.05965155]\n",
      " [ 0.89788115  0.78337677 -0.19877576  0.05190795  0.62947449]\n",
      " [ 1.09410329  2.74750158 -1.05815195 -0.98582475 -0.35498483]\n",
      " [-0.04942712  0.36065606 -0.18247994  0.29435041  0.77469836]\n",
      " [ 1.76784961  1.51301884  1.65650538 -0.38344541  1.19915585]\n",
      " [-1.18718457 -1.31689196 -0.29267758 -3.05054513 -1.16913651]\n",
      " [ 1.45670861  0.01626918  1.0282047  -0.24645874  1.09393679]\n",
      " [ 0.45356683  0.39038855  0.38442011 -0.60609601 -2.1111963 ]\n",
      " [ 2.36607534  3.3027508   0.62335319 -1.96692867  1.27584715]]\n"
     ]
    }
   ],
   "source": [
    "print(X_test)"
   ]
  },
  {
   "cell_type": "markdown",
   "metadata": {},
   "source": [
    "## Part 2 - Building the ANN"
   ]
  },
  {
   "cell_type": "markdown",
   "metadata": {},
   "source": [
    "### Initializing the ANN"
   ]
  },
  {
   "cell_type": "code",
   "execution_count": 271,
   "metadata": {},
   "outputs": [
    {
     "name": "stdout",
     "output_type": "stream",
     "text": [
      "Requirement already satisfied: tensorflow in c:\\users\\patri\\appdata\\local\\programs\\python\\python310\\lib\\site-packages (2.19.0)\n",
      "Requirement already satisfied: absl-py>=1.0.0 in c:\\users\\patri\\appdata\\local\\programs\\python\\python310\\lib\\site-packages (from tensorflow) (2.3.1)\n",
      "Requirement already satisfied: astunparse>=1.6.0 in c:\\users\\patri\\appdata\\local\\programs\\python\\python310\\lib\\site-packages (from tensorflow) (1.6.3)\n",
      "Requirement already satisfied: flatbuffers>=24.3.25 in c:\\users\\patri\\appdata\\local\\programs\\python\\python310\\lib\\site-packages (from tensorflow) (25.2.10)\n",
      "Requirement already satisfied: gast!=0.5.0,!=0.5.1,!=0.5.2,>=0.2.1 in c:\\users\\patri\\appdata\\local\\programs\\python\\python310\\lib\\site-packages (from tensorflow) (0.6.0)\n",
      "Requirement already satisfied: google-pasta>=0.1.1 in c:\\users\\patri\\appdata\\local\\programs\\python\\python310\\lib\\site-packages (from tensorflow) (0.2.0)\n",
      "Requirement already satisfied: libclang>=13.0.0 in c:\\users\\patri\\appdata\\local\\programs\\python\\python310\\lib\\site-packages (from tensorflow) (18.1.1)\n",
      "Requirement already satisfied: opt-einsum>=2.3.2 in c:\\users\\patri\\appdata\\local\\programs\\python\\python310\\lib\\site-packages (from tensorflow) (3.4.0)\n",
      "Requirement already satisfied: packaging in c:\\users\\patri\\appdata\\roaming\\python\\python310\\site-packages (from tensorflow) (25.0)\n",
      "Requirement already satisfied: protobuf!=4.21.0,!=4.21.1,!=4.21.2,!=4.21.3,!=4.21.4,!=4.21.5,<6.0.0dev,>=3.20.3 in c:\\users\\patri\\appdata\\local\\programs\\python\\python310\\lib\\site-packages (from tensorflow) (5.29.5)\n",
      "Requirement already satisfied: requests<3,>=2.21.0 in c:\\users\\patri\\appdata\\local\\programs\\python\\python310\\lib\\site-packages (from tensorflow) (2.31.0)\n",
      "Requirement already satisfied: setuptools in c:\\users\\patri\\appdata\\local\\programs\\python\\python310\\lib\\site-packages (from tensorflow) (65.5.0)\n",
      "Requirement already satisfied: six>=1.12.0 in c:\\users\\patri\\appdata\\roaming\\python\\python310\\site-packages (from tensorflow) (1.17.0)\n",
      "Requirement already satisfied: termcolor>=1.1.0 in c:\\users\\patri\\appdata\\local\\programs\\python\\python310\\lib\\site-packages (from tensorflow) (3.1.0)\n",
      "Requirement already satisfied: typing-extensions>=3.6.6 in c:\\users\\patri\\appdata\\local\\programs\\python\\python310\\lib\\site-packages (from tensorflow) (4.14.1)\n",
      "Requirement already satisfied: wrapt>=1.11.0 in c:\\users\\patri\\appdata\\local\\programs\\python\\python310\\lib\\site-packages (from tensorflow) (1.17.2)\n",
      "Requirement already satisfied: grpcio<2.0,>=1.24.3 in c:\\users\\patri\\appdata\\local\\programs\\python\\python310\\lib\\site-packages (from tensorflow) (1.73.1)\n",
      "Requirement already satisfied: tensorboard~=2.19.0 in c:\\users\\patri\\appdata\\local\\programs\\python\\python310\\lib\\site-packages (from tensorflow) (2.19.0)\n",
      "Requirement already satisfied: keras>=3.5.0 in c:\\users\\patri\\appdata\\local\\programs\\python\\python310\\lib\\site-packages (from tensorflow) (3.10.0)\n",
      "Requirement already satisfied: numpy<2.2.0,>=1.26.0 in c:\\users\\patri\\appdata\\local\\programs\\python\\python310\\lib\\site-packages (from tensorflow) (1.26.4)\n",
      "Requirement already satisfied: h5py>=3.11.0 in c:\\users\\patri\\appdata\\local\\programs\\python\\python310\\lib\\site-packages (from tensorflow) (3.14.0)\n",
      "Requirement already satisfied: ml-dtypes<1.0.0,>=0.5.1 in c:\\users\\patri\\appdata\\local\\programs\\python\\python310\\lib\\site-packages (from tensorflow) (0.5.1)\n",
      "Requirement already satisfied: tensorflow-io-gcs-filesystem>=0.23.1 in c:\\users\\patri\\appdata\\local\\programs\\python\\python310\\lib\\site-packages (from tensorflow) (0.31.0)\n",
      "Requirement already satisfied: charset-normalizer<4,>=2 in c:\\users\\patri\\appdata\\local\\programs\\python\\python310\\lib\\site-packages (from requests<3,>=2.21.0->tensorflow) (3.3.2)\n",
      "Requirement already satisfied: idna<4,>=2.5 in c:\\users\\patri\\appdata\\local\\programs\\python\\python310\\lib\\site-packages (from requests<3,>=2.21.0->tensorflow) (3.7)\n",
      "Requirement already satisfied: urllib3<3,>=1.21.1 in c:\\users\\patri\\appdata\\local\\programs\\python\\python310\\lib\\site-packages (from requests<3,>=2.21.0->tensorflow) (2.2.1)\n",
      "Requirement already satisfied: certifi>=2017.4.17 in c:\\users\\patri\\appdata\\local\\programs\\python\\python310\\lib\\site-packages (from requests<3,>=2.21.0->tensorflow) (2024.2.2)\n",
      "Requirement already satisfied: markdown>=2.6.8 in c:\\users\\patri\\appdata\\local\\programs\\python\\python310\\lib\\site-packages (from tensorboard~=2.19.0->tensorflow) (3.8.2)\n",
      "Requirement already satisfied: tensorboard-data-server<0.8.0,>=0.7.0 in c:\\users\\patri\\appdata\\local\\programs\\python\\python310\\lib\\site-packages (from tensorboard~=2.19.0->tensorflow) (0.7.2)\n",
      "Requirement already satisfied: werkzeug>=1.0.1 in c:\\users\\patri\\appdata\\local\\programs\\python\\python310\\lib\\site-packages (from tensorboard~=2.19.0->tensorflow) (3.1.3)\n",
      "Requirement already satisfied: wheel<1.0,>=0.23.0 in c:\\users\\patri\\appdata\\local\\programs\\python\\python310\\lib\\site-packages (from astunparse>=1.6.0->tensorflow) (0.45.1)\n",
      "Requirement already satisfied: rich in c:\\users\\patri\\appdata\\local\\programs\\python\\python310\\lib\\site-packages (from keras>=3.5.0->tensorflow) (14.0.0)\n",
      "Requirement already satisfied: namex in c:\\users\\patri\\appdata\\local\\programs\\python\\python310\\lib\\site-packages (from keras>=3.5.0->tensorflow) (0.1.0)\n",
      "Requirement already satisfied: optree in c:\\users\\patri\\appdata\\local\\programs\\python\\python310\\lib\\site-packages (from keras>=3.5.0->tensorflow) (0.16.0)\n",
      "Requirement already satisfied: MarkupSafe>=2.1.1 in c:\\users\\patri\\appdata\\local\\programs\\python\\python310\\lib\\site-packages (from werkzeug>=1.0.1->tensorboard~=2.19.0->tensorflow) (2.1.5)\n",
      "Requirement already satisfied: markdown-it-py>=2.2.0 in c:\\users\\patri\\appdata\\local\\programs\\python\\python310\\lib\\site-packages (from rich->keras>=3.5.0->tensorflow) (3.0.0)\n",
      "Requirement already satisfied: pygments<3.0.0,>=2.13.0 in c:\\users\\patri\\appdata\\roaming\\python\\python310\\site-packages (from rich->keras>=3.5.0->tensorflow) (2.19.2)\n",
      "Requirement already satisfied: mdurl~=0.1 in c:\\users\\patri\\appdata\\local\\programs\\python\\python310\\lib\\site-packages (from markdown-it-py>=2.2.0->rich->keras>=3.5.0->tensorflow) (0.1.2)\n"
     ]
    }
   ],
   "source": [
    "# For Jupyter or IPython notebooks, use !pip install\n",
    "!pip install tensorflow\n",
    "\n",
    "import tensorflow as tf"
   ]
  },
  {
   "cell_type": "code",
   "execution_count": 272,
   "metadata": {},
   "outputs": [],
   "source": [
    "ann = tf.keras.models.Sequential()"
   ]
  },
  {
   "cell_type": "markdown",
   "metadata": {},
   "source": [
    "### Adding the input layer and the first hidden layer"
   ]
  },
  {
   "cell_type": "code",
   "execution_count": 282,
   "metadata": {},
   "outputs": [],
   "source": [
    "ann.add(tf.keras.layers.Dense(units=12, activation='relu'))"
   ]
  },
  {
   "cell_type": "markdown",
   "metadata": {},
   "source": [
    "### Adding the second hidden layer"
   ]
  },
  {
   "cell_type": "code",
   "execution_count": 283,
   "metadata": {},
   "outputs": [],
   "source": [
    "ann.add(tf.keras.layers.Dense(units=64, activation='relu'))"
   ]
  },
  {
   "cell_type": "markdown",
   "metadata": {},
   "source": [
    "### Third Hidden Layer "
   ]
  },
  {
   "cell_type": "code",
   "execution_count": 284,
   "metadata": {},
   "outputs": [],
   "source": [
    "ann.add(tf.keras.layers.Dense(units=64, activation='relu'))"
   ]
  },
  {
   "cell_type": "markdown",
   "metadata": {},
   "source": [
    "### Adding the output layer"
   ]
  },
  {
   "cell_type": "code",
   "execution_count": 285,
   "metadata": {},
   "outputs": [],
   "source": [
    "ann.add(tf.keras.layers.Dense(units=3, activation='softmax'))"
   ]
  },
  {
   "cell_type": "markdown",
   "metadata": {},
   "source": [
    "## Part 3 - Training the ANN"
   ]
  },
  {
   "cell_type": "markdown",
   "metadata": {},
   "source": [
    "### Compiling the ANN"
   ]
  },
  {
   "cell_type": "code",
   "execution_count": 286,
   "metadata": {},
   "outputs": [],
   "source": [
    "ann.compile(optimizer='adam', loss='sparse_categorical_crossentropy', metrics=['accuracy'])"
   ]
  },
  {
   "cell_type": "markdown",
   "metadata": {},
   "source": [
    "### Training the ANN on the Training set"
   ]
  },
  {
   "cell_type": "code",
   "execution_count": 287,
   "metadata": {},
   "outputs": [
    {
     "name": "stdout",
     "output_type": "stream",
     "text": [
      "Epoch 1/80\n",
      "\u001b[1m8/8\u001b[0m \u001b[32m━━━━━━━━━━━━━━━━━━━━\u001b[0m\u001b[37m\u001b[0m \u001b[1m3s\u001b[0m 6ms/step - accuracy: 0.3534 - loss: 1.0987\n",
      "Epoch 2/80\n",
      "\u001b[1m8/8\u001b[0m \u001b[32m━━━━━━━━━━━━━━━━━━━━\u001b[0m\u001b[37m\u001b[0m \u001b[1m3s\u001b[0m 6ms/step - accuracy: 0.3534 - loss: 1.0987\n",
      "Epoch 2/80\n",
      "\u001b[1m8/8\u001b[0m \u001b[32m━━━━━━━━━━━━━━━━━━━━\u001b[0m\u001b[37m\u001b[0m \u001b[1m0s\u001b[0m 6ms/step - accuracy: 0.3401 - loss: 1.0983 \n",
      "Epoch 3/80\n",
      "\u001b[1m8/8\u001b[0m \u001b[32m━━━━━━━━━━━━━━━━━━━━\u001b[0m\u001b[37m\u001b[0m \u001b[1m0s\u001b[0m 6ms/step - accuracy: 0.3401 - loss: 1.0983 \n",
      "Epoch 3/80\n",
      "\u001b[1m8/8\u001b[0m \u001b[32m━━━━━━━━━━━━━━━━━━━━\u001b[0m\u001b[37m\u001b[0m \u001b[1m0s\u001b[0m 6ms/step - accuracy: 0.3104 - loss: 1.0990 \n",
      "Epoch 4/80\n",
      "\u001b[1m8/8\u001b[0m \u001b[32m━━━━━━━━━━━━━━━━━━━━\u001b[0m\u001b[37m\u001b[0m \u001b[1m0s\u001b[0m 6ms/step - accuracy: 0.3104 - loss: 1.0990 \n",
      "Epoch 4/80\n",
      "\u001b[1m8/8\u001b[0m \u001b[32m━━━━━━━━━━━━━━━━━━━━\u001b[0m\u001b[37m\u001b[0m \u001b[1m0s\u001b[0m 6ms/step - accuracy: 0.2916 - loss: 1.0993 \n",
      "Epoch 5/80\n",
      "\u001b[1m8/8\u001b[0m \u001b[32m━━━━━━━━━━━━━━━━━━━━\u001b[0m\u001b[37m\u001b[0m \u001b[1m0s\u001b[0m 6ms/step - accuracy: 0.2916 - loss: 1.0993 \n",
      "Epoch 5/80\n",
      "\u001b[1m8/8\u001b[0m \u001b[32m━━━━━━━━━━━━━━━━━━━━\u001b[0m\u001b[37m\u001b[0m \u001b[1m0s\u001b[0m 6ms/step - accuracy: 0.2994 - loss: 1.0991 \n",
      "Epoch 6/80\n",
      "\u001b[1m8/8\u001b[0m \u001b[32m━━━━━━━━━━━━━━━━━━━━\u001b[0m\u001b[37m\u001b[0m \u001b[1m0s\u001b[0m 6ms/step - accuracy: 0.2994 - loss: 1.0991 \n",
      "Epoch 6/80\n",
      "\u001b[1m8/8\u001b[0m \u001b[32m━━━━━━━━━━━━━━━━━━━━\u001b[0m\u001b[37m\u001b[0m \u001b[1m0s\u001b[0m 6ms/step - accuracy: 0.3407 - loss: 1.0987 \n",
      "Epoch 7/80\n",
      "\u001b[1m8/8\u001b[0m \u001b[32m━━━━━━━━━━━━━━━━━━━━\u001b[0m\u001b[37m\u001b[0m \u001b[1m0s\u001b[0m 6ms/step - accuracy: 0.3407 - loss: 1.0987 \n",
      "Epoch 7/80\n",
      "\u001b[1m8/8\u001b[0m \u001b[32m━━━━━━━━━━━━━━━━━━━━\u001b[0m\u001b[37m\u001b[0m \u001b[1m0s\u001b[0m 5ms/step - accuracy: 0.3872 - loss: 1.0973 \n",
      "Epoch 8/80\n",
      "\u001b[1m8/8\u001b[0m \u001b[32m━━━━━━━━━━━━━━━━━━━━\u001b[0m\u001b[37m\u001b[0m \u001b[1m0s\u001b[0m 5ms/step - accuracy: 0.3872 - loss: 1.0973 \n",
      "Epoch 8/80\n",
      "\u001b[1m8/8\u001b[0m \u001b[32m━━━━━━━━━━━━━━━━━━━━\u001b[0m\u001b[37m\u001b[0m \u001b[1m0s\u001b[0m 5ms/step - accuracy: 0.3382 - loss: 1.0987 \n",
      "Epoch 9/80\n",
      "\u001b[1m8/8\u001b[0m \u001b[32m━━━━━━━━━━━━━━━━━━━━\u001b[0m\u001b[37m\u001b[0m \u001b[1m0s\u001b[0m 5ms/step - accuracy: 0.3382 - loss: 1.0987 \n",
      "Epoch 9/80\n",
      "\u001b[1m8/8\u001b[0m \u001b[32m━━━━━━━━━━━━━━━━━━━━\u001b[0m\u001b[37m\u001b[0m \u001b[1m0s\u001b[0m 6ms/step - accuracy: 0.3569 - loss: 1.0982 \n",
      "Epoch 10/80\n",
      "\u001b[1m8/8\u001b[0m \u001b[32m━━━━━━━━━━━━━━━━━━━━\u001b[0m\u001b[37m\u001b[0m \u001b[1m0s\u001b[0m 6ms/step - accuracy: 0.3569 - loss: 1.0982 \n",
      "Epoch 10/80\n",
      "\u001b[1m8/8\u001b[0m \u001b[32m━━━━━━━━━━━━━━━━━━━━\u001b[0m\u001b[37m\u001b[0m \u001b[1m0s\u001b[0m 5ms/step - accuracy: 0.3709 - loss: 1.0981 \n",
      "Epoch 11/80\n",
      "\u001b[1m8/8\u001b[0m \u001b[32m━━━━━━━━━━━━━━━━━━━━\u001b[0m\u001b[37m\u001b[0m \u001b[1m0s\u001b[0m 5ms/step - accuracy: 0.3709 - loss: 1.0981 \n",
      "Epoch 11/80\n",
      "\u001b[1m8/8\u001b[0m \u001b[32m━━━━━━━━━━━━━━━━━━━━\u001b[0m\u001b[37m\u001b[0m \u001b[1m0s\u001b[0m 5ms/step - accuracy: 0.3127 - loss: 1.0994 \n",
      "Epoch 12/80\n",
      "\u001b[1m8/8\u001b[0m \u001b[32m━━━━━━━━━━━━━━━━━━━━\u001b[0m\u001b[37m\u001b[0m \u001b[1m0s\u001b[0m 5ms/step - accuracy: 0.3127 - loss: 1.0994 \n",
      "Epoch 12/80\n",
      "\u001b[1m8/8\u001b[0m \u001b[32m━━━━━━━━━━━━━━━━━━━━\u001b[0m\u001b[37m\u001b[0m \u001b[1m0s\u001b[0m 5ms/step - accuracy: 0.3377 - loss: 1.0983 \n",
      "Epoch 13/80\n",
      "\u001b[1m8/8\u001b[0m \u001b[32m━━━━━━━━━━━━━━━━━━━━\u001b[0m\u001b[37m\u001b[0m \u001b[1m0s\u001b[0m 5ms/step - accuracy: 0.3377 - loss: 1.0983 \n",
      "Epoch 13/80\n",
      "\u001b[1m8/8\u001b[0m \u001b[32m━━━━━━━━━━━━━━━━━━━━\u001b[0m\u001b[37m\u001b[0m \u001b[1m0s\u001b[0m 6ms/step - accuracy: 0.3369 - loss: 1.0988 \n",
      "Epoch 14/80\n",
      "\u001b[1m8/8\u001b[0m \u001b[32m━━━━━━━━━━━━━━━━━━━━\u001b[0m\u001b[37m\u001b[0m \u001b[1m0s\u001b[0m 6ms/step - accuracy: 0.3369 - loss: 1.0988 \n",
      "Epoch 14/80\n",
      "\u001b[1m8/8\u001b[0m \u001b[32m━━━━━━━━━━━━━━━━━━━━\u001b[0m\u001b[37m\u001b[0m \u001b[1m0s\u001b[0m 5ms/step - accuracy: 0.2996 - loss: 1.0998 \n",
      "Epoch 15/80\n",
      "\u001b[1m8/8\u001b[0m \u001b[32m━━━━━━━━━━━━━━━━━━━━\u001b[0m\u001b[37m\u001b[0m \u001b[1m0s\u001b[0m 5ms/step - accuracy: 0.2996 - loss: 1.0998 \n",
      "Epoch 15/80\n",
      "\u001b[1m8/8\u001b[0m \u001b[32m━━━━━━━━━━━━━━━━━━━━\u001b[0m\u001b[37m\u001b[0m \u001b[1m0s\u001b[0m 5ms/step - accuracy: 0.3427 - loss: 1.0982 \n",
      "Epoch 16/80\n",
      "\u001b[1m8/8\u001b[0m \u001b[32m━━━━━━━━━━━━━━━━━━━━\u001b[0m\u001b[37m\u001b[0m \u001b[1m0s\u001b[0m 5ms/step - accuracy: 0.3427 - loss: 1.0982 \n",
      "Epoch 16/80\n",
      "\u001b[1m8/8\u001b[0m \u001b[32m━━━━━━━━━━━━━━━━━━━━\u001b[0m\u001b[37m\u001b[0m \u001b[1m0s\u001b[0m 5ms/step - accuracy: 0.3619 - loss: 1.0971 \n",
      "Epoch 17/80\n",
      "\u001b[1m8/8\u001b[0m \u001b[32m━━━━━━━━━━━━━━━━━━━━\u001b[0m\u001b[37m\u001b[0m \u001b[1m0s\u001b[0m 5ms/step - accuracy: 0.3619 - loss: 1.0971 \n",
      "Epoch 17/80\n",
      "\u001b[1m8/8\u001b[0m \u001b[32m━━━━━━━━━━━━━━━━━━━━\u001b[0m\u001b[37m\u001b[0m \u001b[1m0s\u001b[0m 5ms/step - accuracy: 0.3082 - loss: 1.0990 \n",
      "Epoch 18/80\n",
      "\u001b[1m8/8\u001b[0m \u001b[32m━━━━━━━━━━━━━━━━━━━━\u001b[0m\u001b[37m\u001b[0m \u001b[1m0s\u001b[0m 5ms/step - accuracy: 0.3082 - loss: 1.0990 \n",
      "Epoch 18/80\n",
      "\u001b[1m8/8\u001b[0m \u001b[32m━━━━━━━━━━━━━━━━━━━━\u001b[0m\u001b[37m\u001b[0m \u001b[1m0s\u001b[0m 5ms/step - accuracy: 0.3167 - loss: 1.0990 \n",
      "Epoch 19/80\n",
      "\u001b[1m8/8\u001b[0m \u001b[32m━━━━━━━━━━━━━━━━━━━━\u001b[0m\u001b[37m\u001b[0m \u001b[1m0s\u001b[0m 5ms/step - accuracy: 0.3167 - loss: 1.0990 \n",
      "Epoch 19/80\n",
      "\u001b[1m8/8\u001b[0m \u001b[32m━━━━━━━━━━━━━━━━━━━━\u001b[0m\u001b[37m\u001b[0m \u001b[1m0s\u001b[0m 5ms/step - accuracy: 0.3256 - loss: 1.0992 \n",
      "Epoch 20/80\n",
      "\u001b[1m8/8\u001b[0m \u001b[32m━━━━━━━━━━━━━━━━━━━━\u001b[0m\u001b[37m\u001b[0m \u001b[1m0s\u001b[0m 5ms/step - accuracy: 0.3256 - loss: 1.0992 \n",
      "Epoch 20/80\n",
      "\u001b[1m8/8\u001b[0m \u001b[32m━━━━━━━━━━━━━━━━━━━━\u001b[0m\u001b[37m\u001b[0m \u001b[1m0s\u001b[0m 5ms/step - accuracy: 0.3213 - loss: 1.0991 \n",
      "Epoch 21/80\n",
      "\u001b[1m8/8\u001b[0m \u001b[32m━━━━━━━━━━━━━━━━━━━━\u001b[0m\u001b[37m\u001b[0m \u001b[1m0s\u001b[0m 5ms/step - accuracy: 0.3213 - loss: 1.0991 \n",
      "Epoch 21/80\n",
      "\u001b[1m8/8\u001b[0m \u001b[32m━━━━━━━━━━━━━━━━━━━━\u001b[0m\u001b[37m\u001b[0m \u001b[1m0s\u001b[0m 5ms/step - accuracy: 0.3081 - loss: 1.0990 \n",
      "Epoch 22/80\n",
      "\u001b[1m8/8\u001b[0m \u001b[32m━━━━━━━━━━━━━━━━━━━━\u001b[0m\u001b[37m\u001b[0m \u001b[1m0s\u001b[0m 5ms/step - accuracy: 0.3081 - loss: 1.0990 \n",
      "Epoch 22/80\n",
      "\u001b[1m8/8\u001b[0m \u001b[32m━━━━━━━━━━━━━━━━━━━━\u001b[0m\u001b[37m\u001b[0m \u001b[1m0s\u001b[0m 5ms/step - accuracy: 0.3490 - loss: 1.0989 \n",
      "Epoch 23/80\n",
      "\u001b[1m8/8\u001b[0m \u001b[32m━━━━━━━━━━━━━━━━━━━━\u001b[0m\u001b[37m\u001b[0m \u001b[1m0s\u001b[0m 5ms/step - accuracy: 0.3490 - loss: 1.0989 \n",
      "Epoch 23/80\n",
      "\u001b[1m8/8\u001b[0m \u001b[32m━━━━━━━━━━━━━━━━━━━━\u001b[0m\u001b[37m\u001b[0m \u001b[1m0s\u001b[0m 6ms/step - accuracy: 0.3210 - loss: 1.0989 \n",
      "Epoch 24/80\n",
      "\u001b[1m8/8\u001b[0m \u001b[32m━━━━━━━━━━━━━━━━━━━━\u001b[0m\u001b[37m\u001b[0m \u001b[1m0s\u001b[0m 6ms/step - accuracy: 0.3210 - loss: 1.0989 \n",
      "Epoch 24/80\n",
      "\u001b[1m8/8\u001b[0m \u001b[32m━━━━━━━━━━━━━━━━━━━━\u001b[0m\u001b[37m\u001b[0m \u001b[1m0s\u001b[0m 5ms/step - accuracy: 0.3244 - loss: 1.0986 \n",
      "Epoch 25/80\n",
      "\u001b[1m8/8\u001b[0m \u001b[32m━━━━━━━━━━━━━━━━━━━━\u001b[0m\u001b[37m\u001b[0m \u001b[1m0s\u001b[0m 5ms/step - accuracy: 0.3244 - loss: 1.0986 \n",
      "Epoch 25/80\n",
      "\u001b[1m8/8\u001b[0m \u001b[32m━━━━━━━━━━━━━━━━━━━━\u001b[0m\u001b[37m\u001b[0m \u001b[1m0s\u001b[0m 5ms/step - accuracy: 0.3465 - loss: 1.0985 \n",
      "Epoch 26/80\n",
      "\u001b[1m8/8\u001b[0m \u001b[32m━━━━━━━━━━━━━━━━━━━━\u001b[0m\u001b[37m\u001b[0m \u001b[1m0s\u001b[0m 5ms/step - accuracy: 0.3465 - loss: 1.0985 \n",
      "Epoch 26/80\n",
      "\u001b[1m8/8\u001b[0m \u001b[32m━━━━━━━━━━━━━━━━━━━━\u001b[0m\u001b[37m\u001b[0m \u001b[1m0s\u001b[0m 7ms/step - accuracy: 0.3330 - loss: 1.0986 \n",
      "Epoch 27/80\n",
      "\u001b[1m8/8\u001b[0m \u001b[32m━━━━━━━━━━━━━━━━━━━━\u001b[0m\u001b[37m\u001b[0m \u001b[1m0s\u001b[0m 7ms/step - accuracy: 0.3330 - loss: 1.0986 \n",
      "Epoch 27/80\n",
      "\u001b[1m8/8\u001b[0m \u001b[32m━━━━━━━━━━━━━━━━━━━━\u001b[0m\u001b[37m\u001b[0m \u001b[1m0s\u001b[0m 6ms/step - accuracy: 0.3379 - loss: 1.0986 \n",
      "Epoch 28/80\n",
      "\u001b[1m8/8\u001b[0m \u001b[32m━━━━━━━━━━━━━━━━━━━━\u001b[0m\u001b[37m\u001b[0m \u001b[1m0s\u001b[0m 6ms/step - accuracy: 0.3379 - loss: 1.0986 \n",
      "Epoch 28/80\n",
      "\u001b[1m8/8\u001b[0m \u001b[32m━━━━━━━━━━━━━━━━━━━━\u001b[0m\u001b[37m\u001b[0m \u001b[1m0s\u001b[0m 6ms/step - accuracy: 0.3573 - loss: 1.0983 \n",
      "Epoch 29/80\n",
      "\u001b[1m8/8\u001b[0m \u001b[32m━━━━━━━━━━━━━━━━━━━━\u001b[0m\u001b[37m\u001b[0m \u001b[1m0s\u001b[0m 6ms/step - accuracy: 0.3573 - loss: 1.0983 \n",
      "Epoch 29/80\n",
      "\u001b[1m8/8\u001b[0m \u001b[32m━━━━━━━━━━━━━━━━━━━━\u001b[0m\u001b[37m\u001b[0m \u001b[1m0s\u001b[0m 6ms/step - accuracy: 0.3679 - loss: 1.0982 \n",
      "Epoch 30/80\n",
      "\u001b[1m8/8\u001b[0m \u001b[32m━━━━━━━━━━━━━━━━━━━━\u001b[0m\u001b[37m\u001b[0m \u001b[1m0s\u001b[0m 6ms/step - accuracy: 0.3679 - loss: 1.0982 \n",
      "Epoch 30/80\n",
      "\u001b[1m8/8\u001b[0m \u001b[32m━━━━━━━━━━━━━━━━━━━━\u001b[0m\u001b[37m\u001b[0m \u001b[1m0s\u001b[0m 5ms/step - accuracy: 0.3482 - loss: 1.0986 \n",
      "Epoch 31/80\n",
      "\u001b[1m8/8\u001b[0m \u001b[32m━━━━━━━━━━━━━━━━━━━━\u001b[0m\u001b[37m\u001b[0m \u001b[1m0s\u001b[0m 5ms/step - accuracy: 0.3482 - loss: 1.0986 \n",
      "Epoch 31/80\n",
      "\u001b[1m8/8\u001b[0m \u001b[32m━━━━━━━━━━━━━━━━━━━━\u001b[0m\u001b[37m\u001b[0m \u001b[1m0s\u001b[0m 5ms/step - accuracy: 0.3586 - loss: 1.0983 \n",
      "Epoch 32/80\n",
      "\u001b[1m8/8\u001b[0m \u001b[32m━━━━━━━━━━━━━━━━━━━━\u001b[0m\u001b[37m\u001b[0m \u001b[1m0s\u001b[0m 5ms/step - accuracy: 0.3586 - loss: 1.0983 \n",
      "Epoch 32/80\n",
      "\u001b[1m8/8\u001b[0m \u001b[32m━━━━━━━━━━━━━━━━━━━━\u001b[0m\u001b[37m\u001b[0m \u001b[1m0s\u001b[0m 5ms/step - accuracy: 0.3599 - loss: 1.0983 \n",
      "Epoch 33/80\n",
      "\u001b[1m8/8\u001b[0m \u001b[32m━━━━━━━━━━━━━━━━━━━━\u001b[0m\u001b[37m\u001b[0m \u001b[1m0s\u001b[0m 5ms/step - accuracy: 0.3599 - loss: 1.0983 \n",
      "Epoch 33/80\n",
      "\u001b[1m8/8\u001b[0m \u001b[32m━━━━━━━━━━━━━━━━━━━━\u001b[0m\u001b[37m\u001b[0m \u001b[1m0s\u001b[0m 5ms/step - accuracy: 0.3224 - loss: 1.0986 \n",
      "Epoch 34/80\n",
      "\u001b[1m8/8\u001b[0m \u001b[32m━━━━━━━━━━━━━━━━━━━━\u001b[0m\u001b[37m\u001b[0m \u001b[1m0s\u001b[0m 5ms/step - accuracy: 0.3224 - loss: 1.0986 \n",
      "Epoch 34/80\n",
      "\u001b[1m8/8\u001b[0m \u001b[32m━━━━━━━━━━━━━━━━━━━━\u001b[0m\u001b[37m\u001b[0m \u001b[1m0s\u001b[0m 5ms/step - accuracy: 0.3541 - loss: 1.0987 \n",
      "Epoch 35/80\n",
      "\u001b[1m8/8\u001b[0m \u001b[32m━━━━━━━━━━━━━━━━━━━━\u001b[0m\u001b[37m\u001b[0m \u001b[1m0s\u001b[0m 5ms/step - accuracy: 0.3541 - loss: 1.0987 \n",
      "Epoch 35/80\n",
      "\u001b[1m8/8\u001b[0m \u001b[32m━━━━━━━━━━━━━━━━━━━━\u001b[0m\u001b[37m\u001b[0m \u001b[1m0s\u001b[0m 5ms/step - accuracy: 0.3422 - loss: 1.0987 \n",
      "Epoch 36/80\n",
      "\u001b[1m8/8\u001b[0m \u001b[32m━━━━━━━━━━━━━━━━━━━━\u001b[0m\u001b[37m\u001b[0m \u001b[1m0s\u001b[0m 5ms/step - accuracy: 0.3422 - loss: 1.0987 \n",
      "Epoch 36/80\n",
      "\u001b[1m8/8\u001b[0m \u001b[32m━━━━━━━━━━━━━━━━━━━━\u001b[0m\u001b[37m\u001b[0m \u001b[1m0s\u001b[0m 5ms/step - accuracy: 0.3331 - loss: 1.0986 \n",
      "Epoch 37/80\n",
      "\u001b[1m8/8\u001b[0m \u001b[32m━━━━━━━━━━━━━━━━━━━━\u001b[0m\u001b[37m\u001b[0m \u001b[1m0s\u001b[0m 5ms/step - accuracy: 0.3331 - loss: 1.0986 \n",
      "Epoch 37/80\n",
      "\u001b[1m8/8\u001b[0m \u001b[32m━━━━━━━━━━━━━━━━━━━━\u001b[0m\u001b[37m\u001b[0m \u001b[1m0s\u001b[0m 6ms/step - accuracy: 0.3523 - loss: 1.0985 \n",
      "Epoch 38/80\n",
      "\u001b[1m8/8\u001b[0m \u001b[32m━━━━━━━━━━━━━━━━━━━━\u001b[0m\u001b[37m\u001b[0m \u001b[1m0s\u001b[0m 6ms/step - accuracy: 0.3523 - loss: 1.0985 \n",
      "Epoch 38/80\n",
      "\u001b[1m8/8\u001b[0m \u001b[32m━━━━━━━━━━━━━━━━━━━━\u001b[0m\u001b[37m\u001b[0m \u001b[1m0s\u001b[0m 5ms/step - accuracy: 0.3437 - loss: 1.0985 \n",
      "Epoch 39/80\n",
      "\u001b[1m8/8\u001b[0m \u001b[32m━━━━━━━━━━━━━━━━━━━━\u001b[0m\u001b[37m\u001b[0m \u001b[1m0s\u001b[0m 5ms/step - accuracy: 0.3437 - loss: 1.0985 \n",
      "Epoch 39/80\n",
      "\u001b[1m8/8\u001b[0m \u001b[32m━━━━━━━━━━━━━━━━━━━━\u001b[0m\u001b[37m\u001b[0m \u001b[1m0s\u001b[0m 5ms/step - accuracy: 0.3326 - loss: 1.0986 \n",
      "Epoch 40/80\n",
      "\u001b[1m8/8\u001b[0m \u001b[32m━━━━━━━━━━━━━━━━━━━━\u001b[0m\u001b[37m\u001b[0m \u001b[1m0s\u001b[0m 5ms/step - accuracy: 0.3326 - loss: 1.0986 \n",
      "Epoch 40/80\n",
      "\u001b[1m8/8\u001b[0m \u001b[32m━━━━━━━━━━━━━━━━━━━━\u001b[0m\u001b[37m\u001b[0m \u001b[1m0s\u001b[0m 6ms/step - accuracy: 0.3697 - loss: 1.0985 \n",
      "Epoch 41/80\n",
      "\u001b[1m8/8\u001b[0m \u001b[32m━━━━━━━━━━━━━━━━━━━━\u001b[0m\u001b[37m\u001b[0m \u001b[1m0s\u001b[0m 6ms/step - accuracy: 0.3697 - loss: 1.0985 \n",
      "Epoch 41/80\n",
      "\u001b[1m8/8\u001b[0m \u001b[32m━━━━━━━━━━━━━━━━━━━━\u001b[0m\u001b[37m\u001b[0m \u001b[1m0s\u001b[0m 6ms/step - accuracy: 0.3333 - loss: 1.0984 \n",
      "Epoch 42/80\n",
      "\u001b[1m8/8\u001b[0m \u001b[32m━━━━━━━━━━━━━━━━━━━━\u001b[0m\u001b[37m\u001b[0m \u001b[1m0s\u001b[0m 6ms/step - accuracy: 0.3333 - loss: 1.0984 \n",
      "Epoch 42/80\n",
      "\u001b[1m8/8\u001b[0m \u001b[32m━━━━━━━━━━━━━━━━━━━━\u001b[0m\u001b[37m\u001b[0m \u001b[1m0s\u001b[0m 7ms/step - accuracy: 0.3127 - loss: 1.0988 \n",
      "Epoch 43/80\n",
      "\u001b[1m8/8\u001b[0m \u001b[32m━━━━━━━━━━━━━━━━━━━━\u001b[0m\u001b[37m\u001b[0m \u001b[1m0s\u001b[0m 7ms/step - accuracy: 0.3127 - loss: 1.0988 \n",
      "Epoch 43/80\n",
      "\u001b[1m8/8\u001b[0m \u001b[32m━━━━━━━━━━━━━━━━━━━━\u001b[0m\u001b[37m\u001b[0m \u001b[1m0s\u001b[0m 8ms/step - accuracy: 0.3047 - loss: 1.0989 \n",
      "Epoch 44/80\n",
      "\u001b[1m8/8\u001b[0m \u001b[32m━━━━━━━━━━━━━━━━━━━━\u001b[0m\u001b[37m\u001b[0m \u001b[1m0s\u001b[0m 8ms/step - accuracy: 0.3047 - loss: 1.0989 \n",
      "Epoch 44/80\n",
      "\u001b[1m8/8\u001b[0m \u001b[32m━━━━━━━━━━━━━━━━━━━━\u001b[0m\u001b[37m\u001b[0m \u001b[1m0s\u001b[0m 7ms/step - accuracy: 0.3179 - loss: 1.0987 \n",
      "Epoch 45/80\n",
      "\u001b[1m8/8\u001b[0m \u001b[32m━━━━━━━━━━━━━━━━━━━━\u001b[0m\u001b[37m\u001b[0m \u001b[1m0s\u001b[0m 7ms/step - accuracy: 0.3179 - loss: 1.0987 \n",
      "Epoch 45/80\n",
      "\u001b[1m8/8\u001b[0m \u001b[32m━━━━━━━━━━━━━━━━━━━━\u001b[0m\u001b[37m\u001b[0m \u001b[1m0s\u001b[0m 6ms/step - accuracy: 0.3195 - loss: 1.0986 \n",
      "Epoch 46/80\n",
      "\u001b[1m8/8\u001b[0m \u001b[32m━━━━━━━━━━━━━━━━━━━━\u001b[0m\u001b[37m\u001b[0m \u001b[1m0s\u001b[0m 6ms/step - accuracy: 0.3195 - loss: 1.0986 \n",
      "Epoch 46/80\n",
      "\u001b[1m8/8\u001b[0m \u001b[32m━━━━━━━━━━━━━━━━━━━━\u001b[0m\u001b[37m\u001b[0m \u001b[1m0s\u001b[0m 6ms/step - accuracy: 0.3508 - loss: 1.0981 \n",
      "Epoch 47/80\n",
      "\u001b[1m8/8\u001b[0m \u001b[32m━━━━━━━━━━━━━━━━━━━━\u001b[0m\u001b[37m\u001b[0m \u001b[1m0s\u001b[0m 6ms/step - accuracy: 0.3508 - loss: 1.0981 \n",
      "Epoch 47/80\n",
      "\u001b[1m8/8\u001b[0m \u001b[32m━━━━━━━━━━━━━━━━━━━━\u001b[0m\u001b[37m\u001b[0m \u001b[1m0s\u001b[0m 6ms/step - accuracy: 0.3563 - loss: 1.0982 \n",
      "Epoch 48/80\n",
      "\u001b[1m8/8\u001b[0m \u001b[32m━━━━━━━━━━━━━━━━━━━━\u001b[0m\u001b[37m\u001b[0m \u001b[1m0s\u001b[0m 6ms/step - accuracy: 0.3563 - loss: 1.0982 \n",
      "Epoch 48/80\n",
      "\u001b[1m8/8\u001b[0m \u001b[32m━━━━━━━━━━━━━━━━━━━━\u001b[0m\u001b[37m\u001b[0m \u001b[1m0s\u001b[0m 5ms/step - accuracy: 0.3403 - loss: 1.0987 \n",
      "Epoch 49/80\n",
      "\u001b[1m8/8\u001b[0m \u001b[32m━━━━━━━━━━━━━━━━━━━━\u001b[0m\u001b[37m\u001b[0m \u001b[1m0s\u001b[0m 5ms/step - accuracy: 0.3403 - loss: 1.0987 \n",
      "Epoch 49/80\n",
      "\u001b[1m8/8\u001b[0m \u001b[32m━━━━━━━━━━━━━━━━━━━━\u001b[0m\u001b[37m\u001b[0m \u001b[1m0s\u001b[0m 5ms/step - accuracy: 0.3287 - loss: 1.0992 \n",
      "Epoch 50/80\n",
      "\u001b[1m8/8\u001b[0m \u001b[32m━━━━━━━━━━━━━━━━━━━━\u001b[0m\u001b[37m\u001b[0m \u001b[1m0s\u001b[0m 5ms/step - accuracy: 0.3287 - loss: 1.0992 \n",
      "Epoch 50/80\n",
      "\u001b[1m8/8\u001b[0m \u001b[32m━━━━━━━━━━━━━━━━━━━━\u001b[0m\u001b[37m\u001b[0m \u001b[1m0s\u001b[0m 6ms/step - accuracy: 0.3597 - loss: 1.0977 \n",
      "Epoch 51/80\n",
      "\u001b[1m8/8\u001b[0m \u001b[32m━━━━━━━━━━━━━━━━━━━━\u001b[0m\u001b[37m\u001b[0m \u001b[1m0s\u001b[0m 6ms/step - accuracy: 0.3597 - loss: 1.0977 \n",
      "Epoch 51/80\n",
      "\u001b[1m8/8\u001b[0m \u001b[32m━━━━━━━━━━━━━━━━━━━━\u001b[0m\u001b[37m\u001b[0m \u001b[1m0s\u001b[0m 7ms/step - accuracy: 0.3518 - loss: 1.0979 \n",
      "Epoch 52/80\n",
      "\u001b[1m8/8\u001b[0m \u001b[32m━━━━━━━━━━━━━━━━━━━━\u001b[0m\u001b[37m\u001b[0m \u001b[1m0s\u001b[0m 7ms/step - accuracy: 0.3518 - loss: 1.0979 \n",
      "Epoch 52/80\n",
      "\u001b[1m8/8\u001b[0m \u001b[32m━━━━━━━━━━━━━━━━━━━━\u001b[0m\u001b[37m\u001b[0m \u001b[1m0s\u001b[0m 6ms/step - accuracy: 0.3629 - loss: 1.0975 \n",
      "Epoch 53/80\n",
      "\u001b[1m8/8\u001b[0m \u001b[32m━━━━━━━━━━━━━━━━━━━━\u001b[0m\u001b[37m\u001b[0m \u001b[1m0s\u001b[0m 6ms/step - accuracy: 0.3629 - loss: 1.0975 \n",
      "Epoch 53/80\n",
      "\u001b[1m8/8\u001b[0m \u001b[32m━━━━━━━━━━━━━━━━━━━━\u001b[0m\u001b[37m\u001b[0m \u001b[1m0s\u001b[0m 6ms/step - accuracy: 0.3483 - loss: 1.0981 \n",
      "Epoch 54/80\n",
      "\u001b[1m8/8\u001b[0m \u001b[32m━━━━━━━━━━━━━━━━━━━━\u001b[0m\u001b[37m\u001b[0m \u001b[1m0s\u001b[0m 6ms/step - accuracy: 0.3483 - loss: 1.0981 \n",
      "Epoch 54/80\n",
      "\u001b[1m8/8\u001b[0m \u001b[32m━━━━━━━━━━━━━━━━━━━━\u001b[0m\u001b[37m\u001b[0m \u001b[1m0s\u001b[0m 6ms/step - accuracy: 0.3210 - loss: 1.0989 \n",
      "Epoch 55/80\n",
      "\u001b[1m8/8\u001b[0m \u001b[32m━━━━━━━━━━━━━━━━━━━━\u001b[0m\u001b[37m\u001b[0m \u001b[1m0s\u001b[0m 6ms/step - accuracy: 0.3210 - loss: 1.0989 \n",
      "Epoch 55/80\n",
      "\u001b[1m8/8\u001b[0m \u001b[32m━━━━━━━━━━━━━━━━━━━━\u001b[0m\u001b[37m\u001b[0m \u001b[1m0s\u001b[0m 6ms/step - accuracy: 0.3542 - loss: 1.0985 \n",
      "Epoch 56/80\n",
      "\u001b[1m8/8\u001b[0m \u001b[32m━━━━━━━━━━━━━━━━━━━━\u001b[0m\u001b[37m\u001b[0m \u001b[1m0s\u001b[0m 6ms/step - accuracy: 0.3542 - loss: 1.0985 \n",
      "Epoch 56/80\n",
      "\u001b[1m8/8\u001b[0m \u001b[32m━━━━━━━━━━━━━━━━━━━━\u001b[0m\u001b[37m\u001b[0m \u001b[1m0s\u001b[0m 6ms/step - accuracy: 0.3417 - loss: 1.0985 \n",
      "Epoch 57/80\n",
      "\u001b[1m8/8\u001b[0m \u001b[32m━━━━━━━━━━━━━━━━━━━━\u001b[0m\u001b[37m\u001b[0m \u001b[1m0s\u001b[0m 6ms/step - accuracy: 0.3417 - loss: 1.0985 \n",
      "Epoch 57/80\n",
      "\u001b[1m8/8\u001b[0m \u001b[32m━━━━━━━━━━━━━━━━━━━━\u001b[0m\u001b[37m\u001b[0m \u001b[1m0s\u001b[0m 6ms/step - accuracy: 0.3477 - loss: 1.0987 \n",
      "Epoch 58/80\n",
      "\u001b[1m8/8\u001b[0m \u001b[32m━━━━━━━━━━━━━━━━━━━━\u001b[0m\u001b[37m\u001b[0m \u001b[1m0s\u001b[0m 6ms/step - accuracy: 0.3477 - loss: 1.0987 \n",
      "Epoch 58/80\n",
      "\u001b[1m8/8\u001b[0m \u001b[32m━━━━━━━━━━━━━━━━━━━━\u001b[0m\u001b[37m\u001b[0m \u001b[1m0s\u001b[0m 6ms/step - accuracy: 0.3558 - loss: 1.0984 \n",
      "Epoch 59/80\n",
      "\u001b[1m8/8\u001b[0m \u001b[32m━━━━━━━━━━━━━━━━━━━━\u001b[0m\u001b[37m\u001b[0m \u001b[1m0s\u001b[0m 6ms/step - accuracy: 0.3558 - loss: 1.0984 \n",
      "Epoch 59/80\n",
      "\u001b[1m8/8\u001b[0m \u001b[32m━━━━━━━━━━━━━━━━━━━━\u001b[0m\u001b[37m\u001b[0m \u001b[1m0s\u001b[0m 6ms/step - accuracy: 0.3546 - loss: 1.0985 \n",
      "Epoch 60/80\n",
      "\u001b[1m8/8\u001b[0m \u001b[32m━━━━━━━━━━━━━━━━━━━━\u001b[0m\u001b[37m\u001b[0m \u001b[1m0s\u001b[0m 6ms/step - accuracy: 0.3546 - loss: 1.0985 \n",
      "Epoch 60/80\n",
      "\u001b[1m8/8\u001b[0m \u001b[32m━━━━━━━━━━━━━━━━━━━━\u001b[0m\u001b[37m\u001b[0m \u001b[1m0s\u001b[0m 6ms/step - accuracy: 0.3355 - loss: 1.0986 \n",
      "Epoch 61/80\n",
      "\u001b[1m8/8\u001b[0m \u001b[32m━━━━━━━━━━━━━━━━━━━━\u001b[0m\u001b[37m\u001b[0m \u001b[1m0s\u001b[0m 6ms/step - accuracy: 0.3355 - loss: 1.0986 \n",
      "Epoch 61/80\n",
      "\u001b[1m8/8\u001b[0m \u001b[32m━━━━━━━━━━━━━━━━━━━━\u001b[0m\u001b[37m\u001b[0m \u001b[1m0s\u001b[0m 5ms/step - accuracy: 0.3242 - loss: 1.0990 \n",
      "Epoch 62/80\n",
      "\u001b[1m8/8\u001b[0m \u001b[32m━━━━━━━━━━━━━━━━━━━━\u001b[0m\u001b[37m\u001b[0m \u001b[1m0s\u001b[0m 5ms/step - accuracy: 0.3242 - loss: 1.0990 \n",
      "Epoch 62/80\n",
      "\u001b[1m8/8\u001b[0m \u001b[32m━━━━━━━━━━━━━━━━━━━━\u001b[0m\u001b[37m\u001b[0m \u001b[1m0s\u001b[0m 5ms/step - accuracy: 0.3481 - loss: 1.0984 \n",
      "Epoch 63/80\n",
      "\u001b[1m8/8\u001b[0m \u001b[32m━━━━━━━━━━━━━━━━━━━━\u001b[0m\u001b[37m\u001b[0m \u001b[1m0s\u001b[0m 5ms/step - accuracy: 0.3481 - loss: 1.0984 \n",
      "Epoch 63/80\n",
      "\u001b[1m8/8\u001b[0m \u001b[32m━━━━━━━━━━━━━━━━━━━━\u001b[0m\u001b[37m\u001b[0m \u001b[1m0s\u001b[0m 6ms/step - accuracy: 0.3723 - loss: 1.0982 \n",
      "Epoch 64/80\n",
      "\u001b[1m8/8\u001b[0m \u001b[32m━━━━━━━━━━━━━━━━━━━━\u001b[0m\u001b[37m\u001b[0m \u001b[1m0s\u001b[0m 6ms/step - accuracy: 0.3723 - loss: 1.0982 \n",
      "Epoch 64/80\n",
      "\u001b[1m8/8\u001b[0m \u001b[32m━━━━━━━━━━━━━━━━━━━━\u001b[0m\u001b[37m\u001b[0m \u001b[1m0s\u001b[0m 6ms/step - accuracy: 0.3424 - loss: 1.0987 \n",
      "Epoch 65/80\n",
      "\u001b[1m8/8\u001b[0m \u001b[32m━━━━━━━━━━━━━━━━━━━━\u001b[0m\u001b[37m\u001b[0m \u001b[1m0s\u001b[0m 6ms/step - accuracy: 0.3424 - loss: 1.0987 \n",
      "Epoch 65/80\n",
      "\u001b[1m8/8\u001b[0m \u001b[32m━━━━━━━━━━━━━━━━━━━━\u001b[0m\u001b[37m\u001b[0m \u001b[1m0s\u001b[0m 5ms/step - accuracy: 0.3213 - loss: 1.0988 \n",
      "Epoch 66/80\n",
      "\u001b[1m8/8\u001b[0m \u001b[32m━━━━━━━━━━━━━━━━━━━━\u001b[0m\u001b[37m\u001b[0m \u001b[1m0s\u001b[0m 5ms/step - accuracy: 0.3213 - loss: 1.0988 \n",
      "Epoch 66/80\n",
      "\u001b[1m8/8\u001b[0m \u001b[32m━━━━━━━━━━━━━━━━━━━━\u001b[0m\u001b[37m\u001b[0m \u001b[1m0s\u001b[0m 5ms/step - accuracy: 0.3328 - loss: 1.0988 \n",
      "Epoch 67/80\n",
      "\u001b[1m8/8\u001b[0m \u001b[32m━━━━━━━━━━━━━━━━━━━━\u001b[0m\u001b[37m\u001b[0m \u001b[1m0s\u001b[0m 5ms/step - accuracy: 0.3328 - loss: 1.0988 \n",
      "Epoch 67/80\n",
      "\u001b[1m8/8\u001b[0m \u001b[32m━━━━━━━━━━━━━━━━━━━━\u001b[0m\u001b[37m\u001b[0m \u001b[1m0s\u001b[0m 6ms/step - accuracy: 0.3209 - loss: 1.0989 \n",
      "Epoch 68/80\n",
      "\u001b[1m8/8\u001b[0m \u001b[32m━━━━━━━━━━━━━━━━━━━━\u001b[0m\u001b[37m\u001b[0m \u001b[1m0s\u001b[0m 6ms/step - accuracy: 0.3209 - loss: 1.0989 \n",
      "Epoch 68/80\n",
      "\u001b[1m8/8\u001b[0m \u001b[32m━━━━━━━━━━━━━━━━━━━━\u001b[0m\u001b[37m\u001b[0m \u001b[1m0s\u001b[0m 6ms/step - accuracy: 0.3719 - loss: 1.0982 \n",
      "Epoch 69/80\n",
      "\u001b[1m8/8\u001b[0m \u001b[32m━━━━━━━━━━━━━━━━━━━━\u001b[0m\u001b[37m\u001b[0m \u001b[1m0s\u001b[0m 6ms/step - accuracy: 0.3719 - loss: 1.0982 \n",
      "Epoch 69/80\n",
      "\u001b[1m8/8\u001b[0m \u001b[32m━━━━━━━━━━━━━━━━━━━━\u001b[0m\u001b[37m\u001b[0m \u001b[1m0s\u001b[0m 6ms/step - accuracy: 0.3284 - loss: 1.0987 \n",
      "Epoch 70/80\n",
      "\u001b[1m8/8\u001b[0m \u001b[32m━━━━━━━━━━━━━━━━━━━━\u001b[0m\u001b[37m\u001b[0m \u001b[1m0s\u001b[0m 6ms/step - accuracy: 0.3284 - loss: 1.0987 \n",
      "Epoch 70/80\n",
      "\u001b[1m8/8\u001b[0m \u001b[32m━━━━━━━━━━━━━━━━━━━━\u001b[0m\u001b[37m\u001b[0m \u001b[1m0s\u001b[0m 6ms/step - accuracy: 0.3347 - loss: 1.0986 \n",
      "Epoch 71/80\n",
      "\u001b[1m8/8\u001b[0m \u001b[32m━━━━━━━━━━━━━━━━━━━━\u001b[0m\u001b[37m\u001b[0m \u001b[1m0s\u001b[0m 6ms/step - accuracy: 0.3347 - loss: 1.0986 \n",
      "Epoch 71/80\n",
      "\u001b[1m8/8\u001b[0m \u001b[32m━━━━━━━━━━━━━━━━━━━━\u001b[0m\u001b[37m\u001b[0m \u001b[1m0s\u001b[0m 6ms/step - accuracy: 0.3645 - loss: 1.0985 \n",
      "Epoch 72/80\n",
      "\u001b[1m8/8\u001b[0m \u001b[32m━━━━━━━━━━━━━━━━━━━━\u001b[0m\u001b[37m\u001b[0m \u001b[1m0s\u001b[0m 6ms/step - accuracy: 0.3645 - loss: 1.0985 \n",
      "Epoch 72/80\n",
      "\u001b[1m8/8\u001b[0m \u001b[32m━━━━━━━━━━━━━━━━━━━━\u001b[0m\u001b[37m\u001b[0m \u001b[1m0s\u001b[0m 6ms/step - accuracy: 0.3602 - loss: 1.0983 \n",
      "Epoch 73/80\n",
      "\u001b[1m8/8\u001b[0m \u001b[32m━━━━━━━━━━━━━━━━━━━━\u001b[0m\u001b[37m\u001b[0m \u001b[1m0s\u001b[0m 6ms/step - accuracy: 0.3602 - loss: 1.0983 \n",
      "Epoch 73/80\n",
      "\u001b[1m8/8\u001b[0m \u001b[32m━━━━━━━━━━━━━━━━━━━━\u001b[0m\u001b[37m\u001b[0m \u001b[1m0s\u001b[0m 6ms/step - accuracy: 0.3109 - loss: 1.0990 \n",
      "Epoch 74/80\n",
      "\u001b[1m8/8\u001b[0m \u001b[32m━━━━━━━━━━━━━━━━━━━━\u001b[0m\u001b[37m\u001b[0m \u001b[1m0s\u001b[0m 6ms/step - accuracy: 0.3109 - loss: 1.0990 \n",
      "Epoch 74/80\n",
      "\u001b[1m8/8\u001b[0m \u001b[32m━━━━━━━━━━━━━━━━━━━━\u001b[0m\u001b[37m\u001b[0m \u001b[1m0s\u001b[0m 6ms/step - accuracy: 0.3231 - loss: 1.0988 \n",
      "Epoch 75/80\n",
      "\u001b[1m8/8\u001b[0m \u001b[32m━━━━━━━━━━━━━━━━━━━━\u001b[0m\u001b[37m\u001b[0m \u001b[1m0s\u001b[0m 6ms/step - accuracy: 0.3231 - loss: 1.0988 \n",
      "Epoch 75/80\n",
      "\u001b[1m8/8\u001b[0m \u001b[32m━━━━━━━━━━━━━━━━━━━━\u001b[0m\u001b[37m\u001b[0m \u001b[1m0s\u001b[0m 5ms/step - accuracy: 0.3277 - loss: 1.0987 \n",
      "Epoch 76/80\n",
      "\u001b[1m8/8\u001b[0m \u001b[32m━━━━━━━━━━━━━━━━━━━━\u001b[0m\u001b[37m\u001b[0m \u001b[1m0s\u001b[0m 5ms/step - accuracy: 0.3277 - loss: 1.0987 \n",
      "Epoch 76/80\n",
      "\u001b[1m8/8\u001b[0m \u001b[32m━━━━━━━━━━━━━━━━━━━━\u001b[0m\u001b[37m\u001b[0m \u001b[1m0s\u001b[0m 6ms/step - accuracy: 0.3669 - loss: 1.0983 \n",
      "Epoch 77/80\n",
      "\u001b[1m8/8\u001b[0m \u001b[32m━━━━━━━━━━━━━━━━━━━━\u001b[0m\u001b[37m\u001b[0m \u001b[1m0s\u001b[0m 6ms/step - accuracy: 0.3669 - loss: 1.0983 \n",
      "Epoch 77/80\n",
      "\u001b[1m8/8\u001b[0m \u001b[32m━━━━━━━━━━━━━━━━━━━━\u001b[0m\u001b[37m\u001b[0m \u001b[1m0s\u001b[0m 6ms/step - accuracy: 0.3184 - loss: 1.0987 \n",
      "Epoch 78/80\n",
      "\u001b[1m8/8\u001b[0m \u001b[32m━━━━━━━━━━━━━━━━━━━━\u001b[0m\u001b[37m\u001b[0m \u001b[1m0s\u001b[0m 6ms/step - accuracy: 0.3184 - loss: 1.0987 \n",
      "Epoch 78/80\n",
      "\u001b[1m8/8\u001b[0m \u001b[32m━━━━━━━━━━━━━━━━━━━━\u001b[0m\u001b[37m\u001b[0m \u001b[1m0s\u001b[0m 7ms/step - accuracy: 0.3033 - loss: 1.0988 \n",
      "Epoch 79/80\n",
      "\u001b[1m8/8\u001b[0m \u001b[32m━━━━━━━━━━━━━━━━━━━━\u001b[0m\u001b[37m\u001b[0m \u001b[1m0s\u001b[0m 7ms/step - accuracy: 0.3033 - loss: 1.0988 \n",
      "Epoch 79/80\n",
      "\u001b[1m8/8\u001b[0m \u001b[32m━━━━━━━━━━━━━━━━━━━━\u001b[0m\u001b[37m\u001b[0m \u001b[1m0s\u001b[0m 6ms/step - accuracy: 0.3331 - loss: 1.0986 \n",
      "Epoch 80/80\n",
      "\u001b[1m8/8\u001b[0m \u001b[32m━━━━━━━━━━━━━━━━━━━━\u001b[0m\u001b[37m\u001b[0m \u001b[1m0s\u001b[0m 6ms/step - accuracy: 0.3331 - loss: 1.0986 \n",
      "Epoch 80/80\n",
      "\u001b[1m8/8\u001b[0m \u001b[32m━━━━━━━━━━━━━━━━━━━━\u001b[0m\u001b[37m\u001b[0m \u001b[1m0s\u001b[0m 6ms/step - accuracy: 0.3326 - loss: 1.0986 \n",
      "\u001b[1m8/8\u001b[0m \u001b[32m━━━━━━━━━━━━━━━━━━━━\u001b[0m\u001b[37m\u001b[0m \u001b[1m0s\u001b[0m 6ms/step - accuracy: 0.3326 - loss: 1.0986 \n"
     ]
    },
    {
     "data": {
      "text/plain": [
       "<keras.src.callbacks.history.History at 0x274099a06a0>"
      ]
     },
     "execution_count": 287,
     "metadata": {},
     "output_type": "execute_result"
    }
   ],
   "source": [
    "ann.fit(X_train, y_train, batch_size = 50, epochs = 80)"
   ]
  },
  {
   "cell_type": "markdown",
   "metadata": {},
   "source": [
    "### Confusion Matrix"
   ]
  },
  {
   "cell_type": "code",
   "execution_count": 288,
   "metadata": {},
   "outputs": [
    {
     "name": "stdout",
     "output_type": "stream",
     "text": [
      "\u001b[1m2/2\u001b[0m \u001b[32m━━━━━━━━━━━━━━━━━━━━\u001b[0m\u001b[37m\u001b[0m \u001b[1m0s\u001b[0m 113ms/step\n",
      "\u001b[1m2/2\u001b[0m \u001b[32m━━━━━━━━━━━━━━━━━━━━\u001b[0m\u001b[37m\u001b[0m \u001b[1m0s\u001b[0m 113ms/step\n",
      "[[ 0 11  0]\n",
      " [ 0 20  0]\n",
      " [ 0 31  0]]\n",
      "Accuracy: 0.3225806451612903\n",
      "[[ 0 11  0]\n",
      " [ 0 20  0]\n",
      " [ 0 31  0]]\n",
      "Accuracy: 0.3225806451612903\n"
     ]
    }
   ],
   "source": [
    "y_pred = ann.predict(X_test)\n",
    "y_pred_classes = np.argmax(y_pred, axis=1)\n",
    "\n",
    "from sklearn.metrics import confusion_matrix, accuracy_score\n",
    "cm = confusion_matrix(y_test, y_pred_classes)\n",
    "print(cm)\n",
    "print(\"Accuracy:\", accuracy_score(y_test, y_pred_classes))"
   ]
  },
  {
   "cell_type": "markdown",
   "metadata": {},
   "source": []
  },
  {
   "cell_type": "markdown",
   "metadata": {},
   "source": [
    "#### Mlflow Log"
   ]
  },
  {
   "cell_type": "code",
   "execution_count": 289,
   "metadata": {},
   "outputs": [
    {
     "name": "stdout",
     "output_type": "stream",
     "text": [
      "Requirement already satisfied: mlflow in c:\\users\\patri\\appdata\\local\\programs\\python\\python310\\lib\\site-packages (3.1.4)\n",
      "Requirement already satisfied: mlflow-skinny==3.1.4 in c:\\users\\patri\\appdata\\local\\programs\\python\\python310\\lib\\site-packages (from mlflow) (3.1.4)\n",
      "Requirement already satisfied: Flask<4 in c:\\users\\patri\\appdata\\local\\programs\\python\\python310\\lib\\site-packages (from mlflow) (3.1.1)\n",
      "Requirement already satisfied: alembic!=1.10.0,<2 in c:\\users\\patri\\appdata\\local\\programs\\python\\python310\\lib\\site-packages (from mlflow) (1.16.4)\n",
      "Requirement already satisfied: docker<8,>=4.0.0 in c:\\users\\patri\\appdata\\local\\programs\\python\\python310\\lib\\site-packages (from mlflow) (7.1.0)\n",
      "Requirement already satisfied: graphene<4 in c:\\users\\patri\\appdata\\local\\programs\\python\\python310\\lib\\site-packages (from mlflow) (3.4.3)\n",
      "Requirement already satisfied: matplotlib<4 in c:\\users\\patri\\appdata\\local\\programs\\python\\python310\\lib\\site-packages (from mlflow) (3.10.3)\n",
      "Requirement already satisfied: numpy<3 in c:\\users\\patri\\appdata\\local\\programs\\python\\python310\\lib\\site-packages (from mlflow) (1.26.4)\n",
      "Requirement already satisfied: pandas<3 in c:\\users\\patri\\appdata\\local\\programs\\python\\python310\\lib\\site-packages (from mlflow) (2.3.1)\n",
      "Requirement already satisfied: pyarrow<21,>=4.0.0 in c:\\users\\patri\\appdata\\local\\programs\\python\\python310\\lib\\site-packages (from mlflow) (20.0.0)\n",
      "Requirement already satisfied: scikit-learn<2 in c:\\users\\patri\\appdata\\local\\programs\\python\\python310\\lib\\site-packages (from mlflow) (1.6.1)\n",
      "Requirement already satisfied: scipy<2 in c:\\users\\patri\\appdata\\local\\programs\\python\\python310\\lib\\site-packages (from mlflow) (1.15.3)\n",
      "Requirement already satisfied: sqlalchemy<3,>=1.4.0 in c:\\users\\patri\\appdata\\local\\programs\\python\\python310\\lib\\site-packages (from mlflow) (2.0.41)\n",
      "Requirement already satisfied: waitress<4 in c:\\users\\patri\\appdata\\local\\programs\\python\\python310\\lib\\site-packages (from mlflow) (3.0.2)\n",
      "Requirement already satisfied: cachetools<7,>=5.0.0 in c:\\users\\patri\\appdata\\local\\programs\\python\\python310\\lib\\site-packages (from mlflow-skinny==3.1.4->mlflow) (5.5.2)\n",
      "Requirement already satisfied: click<9,>=7.0 in c:\\users\\patri\\appdata\\local\\programs\\python\\python310\\lib\\site-packages (from mlflow-skinny==3.1.4->mlflow) (8.2.1)\n",
      "Requirement already satisfied: cloudpickle<4 in c:\\users\\patri\\appdata\\local\\programs\\python\\python310\\lib\\site-packages (from mlflow-skinny==3.1.4->mlflow) (3.1.1)\n",
      "Requirement already satisfied: databricks-sdk<1,>=0.20.0 in c:\\users\\patri\\appdata\\local\\programs\\python\\python310\\lib\\site-packages (from mlflow-skinny==3.1.4->mlflow) (0.60.0)\n",
      "Requirement already satisfied: fastapi<1 in c:\\users\\patri\\appdata\\local\\programs\\python\\python310\\lib\\site-packages (from mlflow-skinny==3.1.4->mlflow) (0.116.1)\n",
      "Requirement already satisfied: gitpython<4,>=3.1.9 in c:\\users\\patri\\appdata\\local\\programs\\python\\python310\\lib\\site-packages (from mlflow-skinny==3.1.4->mlflow) (3.1.45)\n",
      "Requirement already satisfied: importlib_metadata!=4.7.0,<9,>=3.7.0 in c:\\users\\patri\\appdata\\local\\programs\\python\\python310\\lib\\site-packages (from mlflow-skinny==3.1.4->mlflow) (8.7.0)\n",
      "Requirement already satisfied: opentelemetry-api<3,>=1.9.0 in c:\\users\\patri\\appdata\\local\\programs\\python\\python310\\lib\\site-packages (from mlflow-skinny==3.1.4->mlflow) (1.35.0)\n",
      "Requirement already satisfied: opentelemetry-sdk<3,>=1.9.0 in c:\\users\\patri\\appdata\\local\\programs\\python\\python310\\lib\\site-packages (from mlflow-skinny==3.1.4->mlflow) (1.35.0)\n",
      "Requirement already satisfied: packaging<26 in c:\\users\\patri\\appdata\\roaming\\python\\python310\\site-packages (from mlflow-skinny==3.1.4->mlflow) (25.0)\n",
      "Requirement already satisfied: protobuf<7,>=3.12.0 in c:\\users\\patri\\appdata\\local\\programs\\python\\python310\\lib\\site-packages (from mlflow-skinny==3.1.4->mlflow) (5.29.5)\n",
      "Requirement already satisfied: pydantic<3,>=1.10.8 in c:\\users\\patri\\appdata\\local\\programs\\python\\python310\\lib\\site-packages (from mlflow-skinny==3.1.4->mlflow) (2.11.7)\n",
      "Requirement already satisfied: pyyaml<7,>=5.1 in c:\\users\\patri\\appdata\\local\\programs\\python\\python310\\lib\\site-packages (from mlflow-skinny==3.1.4->mlflow) (6.0.2)\n",
      "Requirement already satisfied: requests<3,>=2.17.3 in c:\\users\\patri\\appdata\\local\\programs\\python\\python310\\lib\\site-packages (from mlflow-skinny==3.1.4->mlflow) (2.31.0)\n",
      "Requirement already satisfied: sqlparse<1,>=0.4.0 in c:\\users\\patri\\appdata\\local\\programs\\python\\python310\\lib\\site-packages (from mlflow-skinny==3.1.4->mlflow) (0.5.3)\n",
      "Requirement already satisfied: typing-extensions<5,>=4.0.0 in c:\\users\\patri\\appdata\\local\\programs\\python\\python310\\lib\\site-packages (from mlflow-skinny==3.1.4->mlflow) (4.14.1)\n",
      "Requirement already satisfied: uvicorn<1 in c:\\users\\patri\\appdata\\local\\programs\\python\\python310\\lib\\site-packages (from mlflow-skinny==3.1.4->mlflow) (0.35.0)\n",
      "Requirement already satisfied: Mako in c:\\users\\patri\\appdata\\local\\programs\\python\\python310\\lib\\site-packages (from alembic!=1.10.0,<2->mlflow) (1.3.10)\n",
      "Requirement already satisfied: tomli in c:\\users\\patri\\appdata\\local\\programs\\python\\python310\\lib\\site-packages (from alembic!=1.10.0,<2->mlflow) (2.2.1)\n",
      "Requirement already satisfied: colorama in c:\\users\\patri\\appdata\\local\\programs\\python\\python310\\lib\\site-packages (from click<9,>=7.0->mlflow-skinny==3.1.4->mlflow) (0.4.6)\n",
      "Requirement already satisfied: google-auth~=2.0 in c:\\users\\patri\\appdata\\local\\programs\\python\\python310\\lib\\site-packages (from databricks-sdk<1,>=0.20.0->mlflow-skinny==3.1.4->mlflow) (2.40.3)\n",
      "Requirement already satisfied: pywin32>=304 in c:\\users\\patri\\appdata\\roaming\\python\\python310\\site-packages (from docker<8,>=4.0.0->mlflow) (311)\n",
      "Requirement already satisfied: urllib3>=1.26.0 in c:\\users\\patri\\appdata\\local\\programs\\python\\python310\\lib\\site-packages (from docker<8,>=4.0.0->mlflow) (2.2.1)\n",
      "Requirement already satisfied: starlette<0.48.0,>=0.40.0 in c:\\users\\patri\\appdata\\local\\programs\\python\\python310\\lib\\site-packages (from fastapi<1->mlflow-skinny==3.1.4->mlflow) (0.47.2)\n",
      "Requirement already satisfied: blinker>=1.9.0 in c:\\users\\patri\\appdata\\local\\programs\\python\\python310\\lib\\site-packages (from Flask<4->mlflow) (1.9.0)\n",
      "Requirement already satisfied: itsdangerous>=2.2.0 in c:\\users\\patri\\appdata\\local\\programs\\python\\python310\\lib\\site-packages (from Flask<4->mlflow) (2.2.0)\n",
      "Requirement already satisfied: jinja2>=3.1.2 in c:\\users\\patri\\appdata\\local\\programs\\python\\python310\\lib\\site-packages (from Flask<4->mlflow) (3.1.4)\n",
      "Requirement already satisfied: markupsafe>=2.1.1 in c:\\users\\patri\\appdata\\local\\programs\\python\\python310\\lib\\site-packages (from Flask<4->mlflow) (2.1.5)\n",
      "Requirement already satisfied: werkzeug>=3.1.0 in c:\\users\\patri\\appdata\\local\\programs\\python\\python310\\lib\\site-packages (from Flask<4->mlflow) (3.1.3)\n",
      "Requirement already satisfied: gitdb<5,>=4.0.1 in c:\\users\\patri\\appdata\\local\\programs\\python\\python310\\lib\\site-packages (from gitpython<4,>=3.1.9->mlflow-skinny==3.1.4->mlflow) (4.0.12)\n",
      "Requirement already satisfied: smmap<6,>=3.0.1 in c:\\users\\patri\\appdata\\local\\programs\\python\\python310\\lib\\site-packages (from gitdb<5,>=4.0.1->gitpython<4,>=3.1.9->mlflow-skinny==3.1.4->mlflow) (5.0.2)\n",
      "Requirement already satisfied: pyasn1-modules>=0.2.1 in c:\\users\\patri\\appdata\\local\\programs\\python\\python310\\lib\\site-packages (from google-auth~=2.0->databricks-sdk<1,>=0.20.0->mlflow-skinny==3.1.4->mlflow) (0.4.2)\n",
      "Requirement already satisfied: rsa<5,>=3.1.4 in c:\\users\\patri\\appdata\\local\\programs\\python\\python310\\lib\\site-packages (from google-auth~=2.0->databricks-sdk<1,>=0.20.0->mlflow-skinny==3.1.4->mlflow) (4.9.1)\n",
      "Requirement already satisfied: graphql-core<3.3,>=3.1 in c:\\users\\patri\\appdata\\local\\programs\\python\\python310\\lib\\site-packages (from graphene<4->mlflow) (3.2.6)\n",
      "Requirement already satisfied: graphql-relay<3.3,>=3.1 in c:\\users\\patri\\appdata\\local\\programs\\python\\python310\\lib\\site-packages (from graphene<4->mlflow) (3.2.0)\n",
      "Requirement already satisfied: python-dateutil<3,>=2.7.0 in c:\\users\\patri\\appdata\\roaming\\python\\python310\\site-packages (from graphene<4->mlflow) (2.9.0.post0)\n",
      "Requirement already satisfied: zipp>=3.20 in c:\\users\\patri\\appdata\\local\\programs\\python\\python310\\lib\\site-packages (from importlib_metadata!=4.7.0,<9,>=3.7.0->mlflow-skinny==3.1.4->mlflow) (3.23.0)\n",
      "Requirement already satisfied: contourpy>=1.0.1 in c:\\users\\patri\\appdata\\local\\programs\\python\\python310\\lib\\site-packages (from matplotlib<4->mlflow) (1.3.2)\n",
      "Requirement already satisfied: cycler>=0.10 in c:\\users\\patri\\appdata\\local\\programs\\python\\python310\\lib\\site-packages (from matplotlib<4->mlflow) (0.12.1)\n",
      "Requirement already satisfied: fonttools>=4.22.0 in c:\\users\\patri\\appdata\\local\\programs\\python\\python310\\lib\\site-packages (from matplotlib<4->mlflow) (4.59.0)\n",
      "Requirement already satisfied: kiwisolver>=1.3.1 in c:\\users\\patri\\appdata\\local\\programs\\python\\python310\\lib\\site-packages (from matplotlib<4->mlflow) (1.4.8)\n",
      "Requirement already satisfied: pillow>=8 in c:\\users\\patri\\appdata\\local\\programs\\python\\python310\\lib\\site-packages (from matplotlib<4->mlflow) (11.3.0)\n",
      "Requirement already satisfied: pyparsing>=2.3.1 in c:\\users\\patri\\appdata\\local\\programs\\python\\python310\\lib\\site-packages (from matplotlib<4->mlflow) (3.2.3)\n",
      "Requirement already satisfied: opentelemetry-semantic-conventions==0.56b0 in c:\\users\\patri\\appdata\\local\\programs\\python\\python310\\lib\\site-packages (from opentelemetry-sdk<3,>=1.9.0->mlflow-skinny==3.1.4->mlflow) (0.56b0)\n",
      "Requirement already satisfied: pytz>=2020.1 in c:\\users\\patri\\appdata\\local\\programs\\python\\python310\\lib\\site-packages (from pandas<3->mlflow) (2025.2)\n",
      "Requirement already satisfied: tzdata>=2022.7 in c:\\users\\patri\\appdata\\local\\programs\\python\\python310\\lib\\site-packages (from pandas<3->mlflow) (2025.2)\n",
      "Requirement already satisfied: annotated-types>=0.6.0 in c:\\users\\patri\\appdata\\local\\programs\\python\\python310\\lib\\site-packages (from pydantic<3,>=1.10.8->mlflow-skinny==3.1.4->mlflow) (0.7.0)\n",
      "Requirement already satisfied: pydantic-core==2.33.2 in c:\\users\\patri\\appdata\\local\\programs\\python\\python310\\lib\\site-packages (from pydantic<3,>=1.10.8->mlflow-skinny==3.1.4->mlflow) (2.33.2)\n",
      "Requirement already satisfied: typing-inspection>=0.4.0 in c:\\users\\patri\\appdata\\local\\programs\\python\\python310\\lib\\site-packages (from pydantic<3,>=1.10.8->mlflow-skinny==3.1.4->mlflow) (0.4.1)\n",
      "Requirement already satisfied: six>=1.5 in c:\\users\\patri\\appdata\\roaming\\python\\python310\\site-packages (from python-dateutil<3,>=2.7.0->graphene<4->mlflow) (1.17.0)\n",
      "Requirement already satisfied: charset-normalizer<4,>=2 in c:\\users\\patri\\appdata\\local\\programs\\python\\python310\\lib\\site-packages (from requests<3,>=2.17.3->mlflow-skinny==3.1.4->mlflow) (3.3.2)\n",
      "Requirement already satisfied: idna<4,>=2.5 in c:\\users\\patri\\appdata\\local\\programs\\python\\python310\\lib\\site-packages (from requests<3,>=2.17.3->mlflow-skinny==3.1.4->mlflow) (3.7)\n",
      "Requirement already satisfied: certifi>=2017.4.17 in c:\\users\\patri\\appdata\\local\\programs\\python\\python310\\lib\\site-packages (from requests<3,>=2.17.3->mlflow-skinny==3.1.4->mlflow) (2024.2.2)\n",
      "Requirement already satisfied: pyasn1>=0.1.3 in c:\\users\\patri\\appdata\\local\\programs\\python\\python310\\lib\\site-packages (from rsa<5,>=3.1.4->google-auth~=2.0->databricks-sdk<1,>=0.20.0->mlflow-skinny==3.1.4->mlflow) (0.6.1)\n",
      "Requirement already satisfied: joblib>=1.2.0 in c:\\users\\patri\\appdata\\local\\programs\\python\\python310\\lib\\site-packages (from scikit-learn<2->mlflow) (1.5.1)\n",
      "Requirement already satisfied: threadpoolctl>=3.1.0 in c:\\users\\patri\\appdata\\local\\programs\\python\\python310\\lib\\site-packages (from scikit-learn<2->mlflow) (3.6.0)\n",
      "Requirement already satisfied: greenlet>=1 in c:\\users\\patri\\appdata\\local\\programs\\python\\python310\\lib\\site-packages (from sqlalchemy<3,>=1.4.0->mlflow) (3.2.3)\n",
      "Requirement already satisfied: anyio<5,>=3.6.2 in c:\\users\\patri\\appdata\\local\\programs\\python\\python310\\lib\\site-packages (from starlette<0.48.0,>=0.40.0->fastapi<1->mlflow-skinny==3.1.4->mlflow) (4.9.0)\n",
      "Requirement already satisfied: exceptiongroup>=1.0.2 in c:\\users\\patri\\appdata\\roaming\\python\\python310\\site-packages (from anyio<5,>=3.6.2->starlette<0.48.0,>=0.40.0->fastapi<1->mlflow-skinny==3.1.4->mlflow) (1.3.0)\n",
      "Requirement already satisfied: sniffio>=1.1 in c:\\users\\patri\\appdata\\local\\programs\\python\\python310\\lib\\site-packages (from anyio<5,>=3.6.2->starlette<0.48.0,>=0.40.0->fastapi<1->mlflow-skinny==3.1.4->mlflow) (1.3.1)\n",
      "Requirement already satisfied: h11>=0.8 in c:\\users\\patri\\appdata\\local\\programs\\python\\python310\\lib\\site-packages (from uvicorn<1->mlflow-skinny==3.1.4->mlflow) (0.16.0)\n",
      "\u001b[1m2/2\u001b[0m \u001b[32m━━━━━━━━━━━━━━━━━━━━\u001b[0m\u001b[37m\u001b[0m \u001b[1m0s\u001b[0m 16ms/step\n",
      "\u001b[1m2/2\u001b[0m \u001b[32m━━━━━━━━━━━━━━━━━━━━\u001b[0m\u001b[37m\u001b[0m \u001b[1m0s\u001b[0m 16ms/step\n"
     ]
    },
    {
     "name": "stderr",
     "output_type": "stream",
     "text": [
      "c:\\Users\\patri\\AppData\\Local\\Programs\\Python\\Python310\\lib\\site-packages\\sklearn\\metrics\\_classification.py:1731: UndefinedMetricWarning: Precision is ill-defined and being set to 0.0 in labels with no predicted samples. Use `zero_division` parameter to control this behavior.\n",
      "  false negatives and false positives.\n",
      "c:\\Users\\patri\\AppData\\Local\\Programs\\Python\\Python310\\lib\\site-packages\\sklearn\\metrics\\_classification.py:1731: UndefinedMetricWarning: Precision is ill-defined and being set to 0.0 in labels with no predicted samples. Use `zero_division` parameter to control this behavior.\n",
      "  false negatives and false positives.\n",
      "c:\\Users\\patri\\AppData\\Local\\Programs\\Python\\Python310\\lib\\site-packages\\sklearn\\metrics\\_classification.py:1731: UndefinedMetricWarning: Precision is ill-defined and being set to 0.0 in labels with no predicted samples. Use `zero_division` parameter to control this behavior.\n",
      "  false negatives and false positives.\n",
      "2025/07/26 20:26:19 WARNING mlflow.models.model: `artifact_path` is deprecated. Please use `name` instead.\n",
      "2025/07/26 20:26:19 WARNING mlflow.tensorflow: You are saving a TensorFlow Core model or Keras model without a signature. Inference with mlflow.pyfunc.spark_udf() will not work unless the model's pyfunc representation accepts pandas DataFrames as inference inputs.\n",
      "2025/07/26 20:26:19 WARNING mlflow.tensorflow: You are saving a TensorFlow Core model or Keras model without a signature. Inference with mlflow.pyfunc.spark_udf() will not work unless the model's pyfunc representation accepts pandas DataFrames as inference inputs.\n",
      "2025/07/26 20:26:33 WARNING mlflow.models.model: Model logged without a signature and input example. Please set `input_example` parameter when logging the model to auto infer the model signature.\n",
      "2025/07/26 20:26:33 WARNING mlflow.models.model: Model logged without a signature and input example. Please set `input_example` parameter when logging the model to auto infer the model signature.\n"
     ]
    },
    {
     "data": {
      "image/png": "[encoded data removed]",
      "text/plain": [
       "<Figure size 500x400 with 2 Axes>"
      ]
     },
     "metadata": {},
     "output_type": "display_data"
    }
   ],
   "source": [
    "# Install MLflow if not available\n",
    "!pip install mlflow\n",
    "\n",
    "import mlflow\n",
    "import mlflow.tensorflow\n",
    "\n",
    "# Start an MLflow run\n",
    "with mlflow.start_run():\n",
    "    # Log model parameters\n",
    "    mlflow.log_param(\"batch_size\", 32)\n",
    "    mlflow.log_param(\"epochs\", 100)\n",
    "    mlflow.log_param(\"optimizer\", \"adam\")\n",
    "    mlflow.log_param(\"loss_function\", \"sparse_categorical_crossentropy\")\n",
    "    mlflow.log_param(\"architecture\", \"Dense(6)-Dense(6)-Dense(6)-Dense(6)-Dense(3)\")\n",
    "\n",
    "    # Train the model\n",
    "    history = ann.fit(X_train, y_train, batch_size=32, epochs=100, validation_split=0.2, verbose=0)\n",
    "\n",
    "    # Log metrics for last epoch\n",
    "    mlflow.log_metric(\"train_accuracy\", history.history[\"accuracy\"][-1])\n",
    "    mlflow.log_metric(\"val_accuracy\", history.history[\"val_accuracy\"][-1])\n",
    "    mlflow.log_metric(\"train_loss\", history.history[\"loss\"][-1])\n",
    "    mlflow.log_metric(\"val_loss\", history.history[\"val_loss\"][-1])\n",
    "\n",
    "    # Log confusion matrix and classification report as artifacts\n",
    "    import matplotlib.pyplot as plt\n",
    "    from sklearn.metrics import confusion_matrix, classification_report\n",
    "    import numpy as np\n",
    "\n",
    "    y_pred = ann.predict(X_test)\n",
    "    y_pred_classes = np.argmax(y_pred, axis=1)\n",
    "    cm = confusion_matrix(y_test, y_pred_classes)\n",
    "\n",
    "    # Plot and save confusion matrix\n",
    "    plt.figure(figsize=(5,4))\n",
    "    plt.imshow(cm, cmap=\"Blues\")\n",
    "    plt.title(\"Confusion Matrix\")\n",
    "    plt.xlabel(\"Predicted\")\n",
    "    plt.ylabel(\"Actual\")\n",
    "    plt.colorbar()\n",
    "    plt.savefig(\"confusion_matrix.png\")\n",
    "    mlflow.log_artifact(\"confusion_matrix.png\")\n",
    "\n",
    "    # Save classification report\n",
    "    report = classification_report(y_test, y_pred_classes, target_names=le.classes_, output_dict=True)\n",
    "    import json\n",
    "    with open(\"classification_report.json\", \"w\") as f:\n",
    "        json.dump(report, f)\n",
    "    mlflow.log_artifact(\"classification_report.json\")\n",
    "\n",
    "    # Log the trained model\n",
    "    mlflow.tensorflow.log_model(ann, \"model\")"
   ]
  }
 ],
 "metadata": {
  "colab": {
   "collapsed_sections": [],
   "name": "data_preprocessing_tools.ipynb",
   "provenance": [],
   "toc_visible": true
  },
  "kernelspec": {
   "display_name": "Python 3",
   "language": "python",
   "name": "python3"
  },
  "language_info": {
   "codemirror_mode": {
    "name": "ipython",
    "version": 3
   },
   "file_extension": ".py",
   "mimetype": "text/x-python",
   "name": "python",
   "nbconvert_exporter": "python",
   "pygments_lexer": "ipython3",
   "version": "3.10.11"
  }
 },
 "nbformat": 4,
 "nbformat_minor": 0
}
